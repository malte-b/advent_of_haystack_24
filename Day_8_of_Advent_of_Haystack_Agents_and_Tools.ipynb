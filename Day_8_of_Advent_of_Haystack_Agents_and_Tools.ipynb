{
  "cells": [
    {
      "cell_type": "markdown",
      "metadata": {
        "id": "JN0leM93chKG"
      },
      "source": [
        "# Advent of Haystack: Day 8\n",
        "In this challenge, we will create an Agent for Santa's backoffice: a powerful assistant capable of answering questions about the gift inventory, tracking items taken for delivery, and purchasing new ones.\n",
        "\n",
        "We will use several Haystack components, focusing primarily on the new experimental **🛠️ Tool support** (which will soon be merged into the main repository).\n",
        "It's not completely documented yet, but you can find the most important information in this [GitHub discussion](https://github.com/deepset-ai/haystack-experimental/discussions/98).\n",
        "\n",
        "**Some Useful Components**\n",
        "* [DuckduckgoApiWebSearch](https://haystack.deepset.ai/integrations/duckduckgo-api-websearch) or another [WebSearch](https://docs.haystack.deepset.ai/docs/websearch) component\n",
        "* [PromptBuilder](https://docs.haystack.deepset.ai/docs/promptbuilder)\n",
        "* [OpenAIGenerator](https://docs.haystack.deepset.ai/docs/openaigenerator) or any other `Generator`\n",
        "* 🧪 [OpenAIChatGenerator](https://github.com/deepset-ai/haystack-experimental/blob/813157dd75cc95275c51d90bc6cfb7382d88ccc2/haystack_experimental/components/generators/chat/openai.py#L88)\n",
        "* 🧪 [ToolInvoker](https://docs.haystack.deepset.ai/reference/experimental-tools-api#toolinvoker)"
      ]
    },
    {
      "cell_type": "markdown",
      "metadata": {
        "id": "AXQ6jIJmeo8X"
      },
      "source": [
        "## 1) Installation"
      ]
    },
    {
      "cell_type": "code",
      "execution_count": null,
      "metadata": {
        "id": "EzNLQp9gbzBA"
      },
      "outputs": [],
      "source": [
        "! pip install -U openai haystack-ai duckduckgo-api-haystack"
      ]
    },
    {
      "cell_type": "markdown",
      "metadata": {
        "id": "GNkH92d4e5F1"
      },
      "source": [
        "## 2) Enter your API key\n",
        "\n",
        "Enter your OpenAI API key to use the `OpenAIGenerator` and `OpenAIChatGenerator`. Alternatively, you can explore and use other [Generators](https://docs.haystack.deepset.ai/docs/generators) with different models and providers."
      ]
    },
    {
      "cell_type": "code",
      "execution_count": 1,
      "metadata": {
        "colab": {
          "base_uri": "https://localhost:8080/"
        },
        "id": "QkHjTtt5e-tK",
        "outputId": "e4b5fc09-639f-4455-adbd-3abb2f0b4548"
      },
      "outputs": [],
      "source": [
        "%load_ext dotenv\n",
        "%dotenv\n",
        "import os\n",
        "\n",
        "os.environ[\"OPENAI_API_KEY\"] = os.getenv(\"OPENAI_API_KEY\")"
      ]
    },
    {
      "cell_type": "markdown",
      "metadata": {
        "id": "AtA5-wyee8sr"
      },
      "source": [
        "### (Optional) Setup the `LoggingTracer`\n",
        "\n",
        "We recently introduced [Real-Time Pipeline Logging](https://docs.haystack.deepset.ai/docs/logging#real-time-pipeline-logging), that allows to easily inspect the data that's flowing through your pipelines. Particularly helpful during experimentation with complex pipelines."
      ]
    },
    {
      "cell_type": "code",
      "execution_count": 2,
      "metadata": {
        "id": "Z-YMiEcEYmvb"
      },
      "outputs": [
        {
          "name": "stderr",
          "output_type": "stream",
          "text": [
            "/opt/homebrew/Caskroom/miniforge/base/envs/advent_haystack_24/lib/python3.13/site-packages/tqdm/auto.py:21: TqdmWarning: IProgress not found. Please update jupyter and ipywidgets. See https://ipywidgets.readthedocs.io/en/stable/user_install.html\n",
            "  from .autonotebook import tqdm as notebook_tqdm\n"
          ]
        }
      ],
      "source": [
        "import logging\n",
        "from haystack import tracing\n",
        "from haystack.tracing.logging_tracer import LoggingTracer\n",
        "\n",
        "logging.basicConfig(format=\"%(levelname)s - %(name)s -  %(message)s\", level=logging.WARNING)\n",
        "logging.getLogger(\"haystack\").setLevel(logging.DEBUG)\n",
        "\n",
        "tracing.tracer.is_content_tracing_enabled = True # to enable tracing/logging content (inputs/outputs)\n",
        "tracing.enable_tracing(LoggingTracer(tags_color_strings={\"haystack.component.input\": \"\\x1b[1;31m\", \"haystack.component.name\": \"\\x1b[1;34m\"}))"
      ]
    },
    {
      "cell_type": "markdown",
      "metadata": {
        "id": "CYn2RbbKfmJ_"
      },
      "source": [
        "## 3) Populate the inventory\n",
        "\n",
        "In this section, we use a simple Haystack [`InMemoryDocumentStore`](https://docs.haystack.deepset.ai/docs/inmemorydocumentstore) as our inventory.\n",
        "The gift/items will be `Documents`."
      ]
    },
    {
      "cell_type": "code",
      "execution_count": 2,
      "metadata": {
        "id": "Wct4tIWDcY5n"
      },
      "outputs": [
        {
          "name": "stderr",
          "output_type": "stream",
          "text": [
            "/opt/homebrew/Caskroom/miniforge/base/envs/advent_haystack_24/lib/python3.13/site-packages/tqdm/auto.py:21: TqdmWarning: IProgress not found. Please update jupyter and ipywidgets. See https://ipywidgets.readthedocs.io/en/stable/user_install.html\n",
            "  from .autonotebook import tqdm as notebook_tqdm\n"
          ]
        }
      ],
      "source": [
        "from haystack.document_stores.in_memory import InMemoryDocumentStore\n",
        "from haystack import Document\n",
        "\n",
        "document_store = InMemoryDocumentStore()"
      ]
    },
    {
      "cell_type": "code",
      "execution_count": 3,
      "metadata": {
        "id": "HHtwQNBefFyt"
      },
      "outputs": [],
      "source": [
        "documents = [\n",
        "    Document(content=\"LEGO Star Wars Set\", meta={\"units\": 3456, \"origin\": \"Amazon\", \"description\": \"Amazon\"}),\n",
        "    Document(content=\"Wooden Sailboat\", meta={\"units\": 124, \"origin\": \"handmade\", \"description\": \"Handmade\"}),\n",
        "    Document(content=\"Nintendo Switch\", meta={\"units\": 2189, \"origin\": \"Amazon\", \"description\": \"Amazon\"}),\n",
        "    Document(content=\"Hand-Knitted Teddy Bear\", meta={\"units\": 233, \"origin\": \"handmade\", \"description\": \"Handmade\"}),\n",
        "    Document(content=\"Barbie Dreamhouse\", meta={\"units\": 1673, \"origin\": \"Amazon\", \"description\": \"Amazon\"}),\n",
        "    Document(content=\"Carved Wooden Puzzle\", meta={\"units\": 179, \"origin\": \"handmade\", \"description\": \"Handmade\"}),\n",
        "    Document(content=\"Remote Control Drone\", meta={\"units\": 1542, \"origin\": \"Amazon\", \"description\": \"Amazon\"}),\n",
        "    Document(content=\"Painted Rocking Horse\", meta={\"units\": 93, \"origin\": \"handmade\", \"description\": \"Handmade\"}),\n",
        "    Document(content=\"Science Experiment Kit\", meta={\"units\": 2077, \"origin\": \"Amazon\", \"description\": \"Amazon\"}),\n",
        "    Document(content=\"Miniature Dollhouse\", meta={\"units\": 110, \"origin\": \"handmade\", \"description\": \"Handmade\"}),\n",
        "    Document(content=\"Nerf Blaster\", meta={\"units\": 2731, \"origin\": \"Amazon\", \"description\": \"Amazon\"}),\n",
        "    Document(content=\"Interactive Robot Pet\", meta={\"units\": 1394, \"origin\": \"Amazon\", \"description\": \"Amazon\"})\n",
        "]"
      ]
    },
    {
      "cell_type": "code",
      "execution_count": 4,
      "metadata": {
        "colab": {
          "base_uri": "https://localhost:8080/"
        },
        "id": "3IeHPXMVfI3B",
        "outputId": "934901c2-d879-401c-f2c5-4e87739fa0dc"
      },
      "outputs": [
        {
          "data": {
            "text/plain": [
              "12"
            ]
          },
          "execution_count": 4,
          "metadata": {},
          "output_type": "execute_result"
        }
      ],
      "source": [
        "document_store.write_documents(documents)"
      ]
    },
    {
      "cell_type": "markdown",
      "metadata": {
        "id": "eMgGzNMpgeJl"
      },
      "source": [
        "## 4) Tools\n",
        "\n",
        "Our Santa's backoffice Agent need several Tools to work, each one with its specific action:\n",
        "- look up an item in inventory\n",
        "- add item to inventory\n",
        "- take item from inventory\n",
        "- inventory summary\n",
        "- get price of a new item\n",
        "- buy a new item\n",
        "\n",
        "We are going to create them, with your help.\n",
        "For an introduction to Tools, check out [Cookbook: Define & Run Tools](https://haystack.deepset.ai/cookbook/tools_support)."
      ]
    },
    {
      "cell_type": "markdown",
      "metadata": {
        "id": "oDwobQkKkAqa"
      },
      "source": [
        "### Lookup tool\n",
        "\n",
        "This is used to find if an item is present in the inventory.\n",
        "We will use a [`InMemoryBM25Retriever`](https://docs.haystack.deepset.ai/docs/inmemorybm25retriever) to allow also not exact matches."
      ]
    },
    {
      "cell_type": "code",
      "execution_count": 5,
      "metadata": {
        "id": "1v14MOGMfKrP"
      },
      "outputs": [],
      "source": [
        "from haystack_experimental.dataclasses import Tool\n",
        "from typing import Annotated, Literal\n",
        "\n",
        "from haystack.components.retrievers.in_memory import InMemoryBM25Retriever\n",
        "retriever = InMemoryBM25Retriever(document_store=document_store, top_k=3)"
      ]
    },
    {
      "cell_type": "markdown",
      "metadata": {
        "id": "qzf8-ZDqkaBY"
      },
      "source": [
        "After creating the retriever, we define a function that converts the search results to text, ready to be crunched by Language Models.\n",
        "\n",
        "As you can notice, we annotate the arguments in the function signature and provide a detailed docstring to make the conversion to a Tool seamless.\n",
        "To learn this trick, take a look at the [Newsletter Sending Agent notebook](https://haystack.deepset.ai/cookbook/newsletter-agent#extras-converting-tools)."
      ]
    },
    {
      "cell_type": "code",
      "execution_count": 6,
      "metadata": {
        "id": "FzYuvRRYfUle"
      },
      "outputs": [],
      "source": [
        "def lookup_item_in_inventory(item_name: Annotated[str, \"The item name to search\"]):\n",
        "  \"\"\"\n",
        "  Look up an item in the inventory.\n",
        "  \"\"\"\n",
        "  result = retriever.run(query=item_name)\n",
        "  text = \"\"\n",
        "  for doc in result[\"documents\"]:\n",
        "      text += f\"found item: {doc.content}; units: {doc.meta['units']}; matching score: {doc.score}\\n\"\n",
        "  return text\n"
      ]
    },
    {
      "cell_type": "code",
      "execution_count": 7,
      "metadata": {
        "id": "apYyXTGSf7kC"
      },
      "outputs": [
        {
          "name": "stdout",
          "output_type": "stream",
          "text": [
            "found item: LEGO Star Wars Set; units: 3456; matching score: 2.3976626592085233\n",
            "found item: Wooden Sailboat; units: 124; matching score: 1.3496776558458576\n",
            "found item: Nintendo Switch; units: 2189; matching score: 1.3496776558458576\n",
            "\n"
          ]
        }
      ],
      "source": [
        "print(lookup_item_in_inventory(item_name=\"lego\"))"
      ]
    },
    {
      "cell_type": "code",
      "execution_count": 8,
      "metadata": {
        "id": "a11KClpGf-qT"
      },
      "outputs": [],
      "source": [
        "lookup_item_in_inventory_tool=Tool.from_function(lookup_item_in_inventory)"
      ]
    },
    {
      "cell_type": "code",
      "execution_count": 9,
      "metadata": {
        "id": "B57fRNH1lrgP"
      },
      "outputs": [
        {
          "name": "stdout",
          "output_type": "stream",
          "text": [
            "found item: LEGO Star Wars Set; units: 3456; matching score: 2.3976626592085233\n",
            "found item: Wooden Sailboat; units: 124; matching score: 1.3496776558458576\n",
            "found item: Nintendo Switch; units: 2189; matching score: 1.3496776558458576\n",
            "\n"
          ]
        }
      ],
      "source": [
        "print(lookup_item_in_inventory_tool.invoke(item_name=\"lego\"))"
      ]
    },
    {
      "cell_type": "markdown",
      "metadata": {
        "id": "QPAhP-8YmFiw"
      },
      "source": [
        "### Add item tool\n",
        "\n",
        "Next, a tool to add an item to the inventory"
      ]
    },
    {
      "cell_type": "code",
      "execution_count": 10,
      "metadata": {
        "id": "bLRG6etMgQ_h"
      },
      "outputs": [],
      "source": [
        "from haystack.document_stores.types import DuplicatePolicy\n",
        "\n",
        "def add_item_to_inventory(item_name: Annotated[str, \"The item name to add to inventory\"],\n",
        "                          origin: Annotated[Literal[\"handmade\", \"Amazon\"], \"The origin of the item\"],\n",
        "                          units: Annotated[int, \"The number of units to add to inventory\"]=1,\n",
        "                          ):\n",
        "    \"\"\"\n",
        "    Add an item to the inventory.\n",
        "    \"\"\"\n",
        "    found=document_store.filter_documents(filters={\"field\": \"content\", \"operator\": \"==\", \"value\": item_name})\n",
        "    id_ = None\n",
        "    if found:\n",
        "        units += found[0].meta[\"units\"]\n",
        "        id_ = found[0].id\n",
        "\n",
        "    doc = Document(id=id_, content=item_name, meta={\"units\": units, \"origin\": origin})\n",
        "    return document_store.write_documents([doc], policy=DuplicatePolicy.OVERWRITE)"
      ]
    },
    {
      "cell_type": "code",
      "execution_count": 11,
      "metadata": {
        "id": "SdDyMTNug1rT"
      },
      "outputs": [],
      "source": [
        "add_item_to_inventory_tool=Tool.from_function(add_item_to_inventory)"
      ]
    },
    {
      "cell_type": "markdown",
      "metadata": {
        "id": "ZPvD2eFDmOBB"
      },
      "source": [
        "### Inventory Summary tool\n",
        "\n",
        "Now it's your turn.\n",
        "\n",
        "Let's start with a basic `inventory_summary` function and its `inventory_summary_tool`.\n",
        "\n",
        "This tool is expected to retrieve all items and return a textual summary/list as `\"name: <NAME>; units: <UNITS>; origin: <ORIGIN>\"` for each item."
      ]
    },
    {
      "cell_type": "code",
      "execution_count": 12,
      "metadata": {
        "id": "Nb2kXx-DhDGq"
      },
      "outputs": [],
      "source": [
        "def inventory_summary():\n",
        "    \"\"\"\n",
        "    Get a summary of the inventory.\n",
        "    \"\"\"\n",
        "    text = \"\"\n",
        "    for doc in document_store.storage.values():\n",
        "        text += f\"name: {doc.content}; units: {doc.meta['units']}; origin: {doc.meta['origin']}\\n\"\n",
        "    return text"
      ]
    },
    {
      "cell_type": "code",
      "execution_count": 13,
      "metadata": {
        "id": "TWELJk4GhJQj"
      },
      "outputs": [],
      "source": [
        "inventory_summary_tool=Tool.from_function(inventory_summary)"
      ]
    },
    {
      "cell_type": "markdown",
      "metadata": {
        "id": "W_ngfnfHm-Wb"
      },
      "source": [
        "### Take from Inventory tool\n",
        "\n",
        "A more complex tool for you to build!\n",
        "\n",
        "This should take as input the `item_name` and the `units`.\n",
        "- it should try to fetch the item\n",
        "- if not present, return a message saying `\"item {item_name} not found in inventory\"`\n",
        "- if present and units > units in inventory, return a message saying `\"item {item_name} has only {units_in_inventory} units, cannot take {units}\"`\n",
        "- otherwise, remove the specified `units` from the inventory and return an explanatory message saying `\"item {item_name} has been updated in inventory\"`"
      ]
    },
    {
      "cell_type": "code",
      "execution_count": 14,
      "metadata": {
        "id": "jmwf7SkWhNTn"
      },
      "outputs": [],
      "source": [
        "def take_from_inventory(item_name: Annotated[str, \"The item name to take from inventory\"],\n",
        "                        units: Annotated[int, \"The number of units to take from inventory\"]=1):\n",
        "    \"\"\"\n",
        "    Take an item from the inventory.\n",
        "    \"\"\"\n",
        "    found=document_store.filter_documents(filters={\"field\": \"content\", \"operator\": \"==\", \"value\": item_name})\n",
        "    if not found:\n",
        "        return f\"item {item_name} not found in inventory\"\n",
        "    units_in_inventory = found[0].meta[\"units\"]\n",
        "    remaining_units = units_in_inventory - units\n",
        "    if remaining_units < 0:\n",
        "        return f\"item {item_name} has only {units_in_inventory} units, cannot take {units}\"\n",
        "    doc = Document(id=found[0].id, content=item_name, meta={\"units\": remaining_units, \"origin\": found[0].meta[\"origin\"]})\n",
        "    document_store.write_documents([doc], policy=DuplicatePolicy.OVERWRITE)\n",
        "    return f\"item {item_name} has been updated in inventory\"\n",
        "  "
      ]
    },
    {
      "cell_type": "code",
      "execution_count": 15,
      "metadata": {
        "id": "iSebujGKhcqH"
      },
      "outputs": [],
      "source": [
        "take_from_inventory_tool=Tool.from_function(take_from_inventory)"
      ]
    },
    {
      "cell_type": "markdown",
      "metadata": {
        "id": "xjAcsClXoAo7"
      },
      "source": [
        "### Get Price tool\n",
        "\n",
        "This tool tries to find the Amazon price of the item in the web.\n",
        "\n",
        "In this case, the tool wraps a Web RAG Pipeline.\n",
        "The tool is given but you need to define the pipeline with [DuckduckgoApiWebSearch](https://haystack.deepset.ai/integrations/duckduckgo-api-websearch), [PromptBuilder](https://docs.haystack.deepset.ai/docs/promptbuilder) and [OpenAIGenerator](https://docs.haystack.deepset.ai/docs/openaigenerator).\n",
        "\n",
        "**HINT:** If you quickly hit the rate limit, you can change the `backend` of `DuckduckgoApiWebSearch` and use \"html\" (or \"lite\").\n"
      ]
    },
    {
      "cell_type": "code",
      "execution_count": 16,
      "metadata": {
        "id": "tvbrb6XRhoYg"
      },
      "outputs": [],
      "source": [
        "from haystack import Pipeline\n",
        "from haystack.components.builders.prompt_builder import PromptBuilder\n",
        "from haystack.components.generators import OpenAIGenerator\n",
        "from duckduckgo_api_haystack import DuckduckgoApiWebSearch\n",
        "\n",
        "\n",
        "### DEFINE THE WEB RAG PIPELINE HERE ###\n",
        "get_price_pipe = Pipeline()\n",
        "websearch = DuckduckgoApiWebSearch(top_k=3, backend=\"api\")\n",
        "prompt_builder = PromptBuilder(template=\"\"\"Search Results: {{ documents }}\n",
        "    {{ query }}\n",
        "    Extract the minimum price found on Amazon and return only the item name and price.\"\"\")\n",
        "generator = OpenAIGenerator()\n",
        "\n",
        "get_price_pipe.add_component(instance=websearch, name=\"search\")\n",
        "get_price_pipe.add_component(instance=prompt_builder, name=\"prompt_builder\")\n",
        "get_price_pipe.add_component(instance=generator, name=\"llm\")"
      ]
    },
    {
      "cell_type": "code",
      "execution_count": 17,
      "metadata": {},
      "outputs": [
        {
          "data": {
            "text/plain": [
              "<haystack.core.pipeline.pipeline.Pipeline object at 0x31010cd70>\n",
              "🚅 Components\n",
              "  - search: DuckduckgoApiWebSearch\n",
              "  - prompt_builder: PromptBuilder\n",
              "  - llm: OpenAIGenerator\n",
              "🛤️ Connections\n",
              "  - search.documents -> prompt_builder.documents (List[Document])\n",
              "  - prompt_builder.prompt -> llm.prompt (str)"
            ]
          },
          "execution_count": 17,
          "metadata": {},
          "output_type": "execute_result"
        }
      ],
      "source": [
        "get_price_pipe.connect(\"search.documents\", \"prompt_builder.documents\")\n",
        "get_price_pipe.connect(\"prompt_builder.prompt\", \"llm.prompt\")"
      ]
    },
    {
      "cell_type": "code",
      "execution_count": 18,
      "metadata": {
        "id": "x0epLB6AiYtj"
      },
      "outputs": [],
      "source": [
        "def get_price(item_name: Annotated[str, \"The item name to search\"]):\n",
        "  \"\"\"\n",
        "  Search the web to get the price of an item on Amazon\n",
        "  \"\"\"\n",
        "\n",
        "  search_query = f\"price of {item_name} on Amazon\"\n",
        "  question = f\"What is the price of {item_name} on Amazon? Respond with minimal item name and minimum price.\"\n",
        "\n",
        "\n",
        "  data = {\"search\":{\"query\":search_query}, \"prompt_builder\":{\"query\": question}}\n",
        "\n",
        "  return get_price_pipe.run(data=data)[\"llm\"][\"replies\"][0]"
      ]
    },
    {
      "cell_type": "code",
      "execution_count": 19,
      "metadata": {
        "colab": {
          "base_uri": "https://localhost:8080/",
          "height": 35
        },
        "id": "zk2GbXM3iTDc",
        "outputId": "10f1c3a2-47e9-4340-a04d-152a9277f128"
      },
      "outputs": [
        {
          "name": "stderr",
          "output_type": "stream",
          "text": [
            "/opt/homebrew/Caskroom/miniforge/base/envs/advent_haystack_24/lib/python3.13/site-packages/duckduckgo_api_haystack/duckduckgoapi.py:176: UserWarning: 'api' backend is deprecated, using backend='auto'\n",
            "  results = self.ddgs.text(**payload)\n"
          ]
        },
        {
          "data": {
            "text/plain": [
              "'Barbie DreamHouse - $129.99'"
            ]
          },
          "execution_count": 19,
          "metadata": {},
          "output_type": "execute_result"
        }
      ],
      "source": [
        "get_price(\"barbie dollhouse\")\n"
      ]
    },
    {
      "cell_type": "code",
      "execution_count": 20,
      "metadata": {
        "id": "mCtifdTBFiAj"
      },
      "outputs": [],
      "source": [
        "get_price_tool=Tool.from_function(get_price)"
      ]
    },
    {
      "cell_type": "markdown",
      "metadata": {
        "id": "DOXel_47pDCU"
      },
      "source": [
        "### Buy from Amazon tool\n",
        "\n",
        "This tool is ready to use.\n",
        "\n",
        "It asks the user for confirmation and then simulates a purchase on Amazon. It also adds items to the inventory."
      ]
    },
    {
      "cell_type": "code",
      "execution_count": 21,
      "metadata": {
        "id": "wld2pQKGFtVD"
      },
      "outputs": [],
      "source": [
        "def buy_from_amazon(item_name: Annotated[str, \"The item name to search\"],\n",
        "                     price: Annotated[float, \"The price of the item to buy\"],\n",
        "                     units: Annotated[int, \"The number of units to buy\"]=1):\n",
        "    \"\"\"\n",
        "    Buy an item from Amazon and place it in the inventory.\n",
        "    \"\"\"\n",
        "\n",
        "    total_price = units * price\n",
        "    confirm = input(f\"You are about to buy {units} units of {item_name} from Amazon for a total of ${total_price}. Are you sure you want to continue? (y/n)\")\n",
        "    if confirm == \"y\":\n",
        "        # simulate actually buying from Amazon\n",
        "        add_item_to_inventory(item_name, units=units, origin=\"Amazon\")\n",
        "        return \"transaction completed and item added to inventory\"\n",
        "\n",
        "    return \"transaction cancelled\""
      ]
    },
    {
      "cell_type": "code",
      "execution_count": 22,
      "metadata": {
        "id": "NExtECudOas3"
      },
      "outputs": [],
      "source": [
        "buy_from_amazon_tool=Tool.from_function(buy_from_amazon)"
      ]
    },
    {
      "cell_type": "code",
      "execution_count": 23,
      "metadata": {
        "colab": {
          "base_uri": "https://localhost:8080/",
          "height": 53
        },
        "id": "im77S0CjOk0B",
        "outputId": "a85b424c-0c74-40ec-dc01-58f510a27002"
      },
      "outputs": [
        {
          "data": {
            "text/plain": [
              "'transaction completed and item added to inventory'"
            ]
          },
          "execution_count": 23,
          "metadata": {},
          "output_type": "execute_result"
        }
      ],
      "source": [
        "buy_from_amazon(item_name=\"Playstation 5\", price=500.00, units=5)"
      ]
    },
    {
      "cell_type": "markdown",
      "metadata": {
        "id": "li21BqZesFft"
      },
      "source": [
        "## 5) Main loop\n",
        "\n",
        "This part controls the flow of the application.\n",
        "It is quite simple and you can use to see the Agent in action and check that everything is working properly. For the Agent, you will use the experimental versions of `OpenAIChatGenerator` and `ChatMessage`.\n",
        "\n",
        "**Note:** You can use experimental versions of `OllamaChatGenerator`, `HuggingFaceAPIChatGenerator` and `AnthropicChatGenerator` instead of `OpenAIChatGenerator`. See all experimental `Generators` [here](https://github.com/deepset-ai/haystack-experimental/tree/main/haystack_experimental/components/generators)\n",
        "\n",
        "To understand what's happening, it is important to be familiar with the experimental `ChatMessage` dataclass (see this [Cookbook: Define & Run Tools](https://haystack.deepset.ai/cookbook/tools_support)).\n",
        "\n",
        "---\n",
        "\n",
        "If every missing part has been implemented correctly, the Agent should be able to answer questions and perform actions like the following:\n",
        "```\n",
        "What's in the inventory?\n",
        "I take 1300 Barbie Dreamhouse and 50 Wooden Sailboat\n",
        "Buy 50 Harry Potter and the Philosopher's Stone books from Amazon\n",
        "Buy 50 Doom 3 videogames; then I take 40 of them\n",
        "Price of Bose noise removing headphones\n",
        "I want to add 27 Wooden trains handmade by elves\n",
        "```"
      ]
    },
    {
      "cell_type": "code",
      "execution_count": 25,
      "metadata": {
        "id": "6UoV7PAMOpaE"
      },
      "outputs": [
        {
          "name": "stdout",
          "output_type": "stream",
          "text": [
            "⌛ iterating...\n",
            "⌛ iterating...\n",
            "🤖: It looks like we have no jingle bells in our inventory! 🎅🏻❄️ Time to bring in some new jingle bells for all the festive cheer! \n",
            "\n",
            "Shall I check on the price of jingle bells on Amazon so we can get some right away? 🎁✨\n",
            "⌛ iterating...\n",
            "⌛ iterating...\n",
            "⌛ iterating...\n",
            "🤖: 🎉✨ I checked, and I can't fetch the real-time prices myself, but I found some helpful links for you to check out the prices for jingle bells on Amazon:\n",
            "\n",
            "1. [Jingle Bells](https://www.amazon.com/jingle-bells/s?k=jingle+bells)\n",
            "2. [Jingle Bells Christmas](https://www.amazon.com/jingle-bells-christmas/s?k=jingle+bells+christmas)\n",
            "3. [Jingle Christmas Bells](https://www.amazon.com/jingle-christmas-bells/s?k=jingle+christmas+bells)\n",
            "\n",
            "Once you find the price, let me know, and I'll make sure to add them to our inventory! 🎁🔔✨\n",
            "⌛ iterating...\n",
            "⌛ iterating...\n",
            "🤖: 🎅🏼 Oh dear! It seems I still can’t fetch the exact prices for jingle bells. You can check the links for updated pricing:\n",
            "\n",
            "1. [Jingle Bells](https://www.amazon.com/jingle-bells/s?k=jingle+bells)\n",
            "2. [Jingle Bells Christmas](https://www.amazon.com/jingle-bells-christmas/s?k=jingle+bells+christmas)\n",
            "3. [Christmas Jingle Bells (Amazon.ca)](https://www.amazon.ca/christmas-jingle-bells/s?k=christmas+jingle+bells)\n",
            "\n",
            "Once you have the price, let me know, and I'll be ready to purchase them for our joyful festive needs! 🎉🔔✨\n",
            "⌛ iterating...\n",
            "⌛ iterating...\n",
            "🤖: Ho ho ho! 🎅🏼 The transaction is completed, and we now have 50 shiny jingle bells jingling in our inventory! 🔔✨ \n",
            "\n",
            "Let the festive spirit ring out louder than ever! If there's anything else you need to spread the joy this holiday season, just let me know! 🎄🎁\n"
          ]
        }
      ],
      "source": [
        "from haystack_experimental.components.generators.chat import OpenAIChatGenerator\n",
        "from haystack_experimental.components.tools.tool_invoker import ToolInvoker\n",
        "from haystack_experimental.dataclasses import ChatMessage\n",
        "\n",
        "tools = [lookup_item_in_inventory_tool, add_item_to_inventory_tool, inventory_summary_tool, take_from_inventory_tool, get_price_tool, buy_from_amazon_tool]\n",
        "\n",
        "chat_generator = OpenAIChatGenerator(tools=tools)\n",
        "\n",
        "tool_invoker = ToolInvoker(tools=tools)\n",
        "messages = [\n",
        "        ChatMessage.from_system(\n",
        "            \"\"\"You manage Santa Claus backoffice. Always talk with a XMAS tone and references. You are expected to talk with Santas elves.\n",
        "            Prepare a tool call if needed, otherwise use your knowledge to respond to the user.\n",
        "            If the invocation of a tool requires the result of another tool, prepare only one call at a time.\n",
        "\n",
        "            Each time you receive the result of a tool call, ask yourself: \"Am I done with the task?\".\n",
        "            If not and you need to invoke another tool, prepare the next tool call.\n",
        "            If you are done, respond with just the final result.\"\"\"\n",
        "        )\n",
        "    ]\n",
        "\n",
        "while True:\n",
        "    user_input = input(\"\\n\\nwaiting for input (type 'exit' or 'quit' to stop)\\n🧝: \")\n",
        "    if user_input.lower() == \"exit\" or user_input.lower() == \"quit\":\n",
        "        break\n",
        "    messages.append(ChatMessage.from_user(user_input))\n",
        "\n",
        "    while True:\n",
        "        print(\"⌛ iterating...\")\n",
        "\n",
        "        replies = chat_generator.run(messages=messages)[\"replies\"]\n",
        "        messages.extend(replies)\n",
        "\n",
        "        # Check for tool calls and handle them\n",
        "        if not replies[0].tool_calls:\n",
        "            break\n",
        "        tool_calls = replies[0].tool_calls\n",
        "\n",
        "        tool_messages = tool_invoker.run(messages=replies)[\"tool_messages\"]\n",
        "        messages.extend(tool_messages)\n",
        "\n",
        "\n",
        "    # Print the final AI response after all tool calls are resolved\n",
        "    print(f\"🤖: {messages[-1].text}\")"
      ]
    },
    {
      "cell_type": "code",
      "execution_count": null,
      "metadata": {},
      "outputs": [],
      "source": []
    }
  ],
  "metadata": {
    "colab": {
      "provenance": []
    },
    "kernelspec": {
      "display_name": "Python (advent_haystack_24)",
      "language": "python",
      "name": "advent_haystack_24"
    },
    "language_info": {
      "codemirror_mode": {
        "name": "ipython",
        "version": 3
      },
      "file_extension": ".py",
      "mimetype": "text/x-python",
      "name": "python",
      "nbconvert_exporter": "python",
      "pygments_lexer": "ipython3",
      "version": "3.13.1"
    }
  },
  "nbformat": 4,
  "nbformat_minor": 0
}
