{
  "cells": [
    {
      "cell_type": "markdown",
      "metadata": {
        "id": "swhzA1IoktRm"
      },
      "source": [
        "# Advent of Haystack: Day 9\n",
        "\n",
        "In this challenge, you'll help Santa build a self-reflecting gift selection agent using Haystack and MongoDB Atlas! 🎅\n",
        "\n",
        "The agent will help optimize gift selections based on children's wishlists and budget constraints, using MongoDB Atlas vector search for semantic matching and implementing self-reflection to ensure the best possible gift combinations.\n",
        "\n",
        "**Components to use in this challenge:**\n",
        "- [`OpenAITextEmbedder`](https://docs.haystack.deepset.ai/docs/openaitextembedder) for  query embedding\n",
        "- [`MongoDBAtlasEmbeddingRetriever`](https://docs.haystack.deepset.ai/docs/) for finding relevant gifts\n",
        "- [`PromptBuilder`](https://docs.haystack.deepset.ai/docs/promptbuilder) for creating the prompt\n",
        "- [`OpenAIGenerator`](https://docs.haystack.deepset.ai/docs/openaigenerator) for  generating responses\n",
        "- Custom `GiftChecker` component for self-reflection"
      ]
    },
    {
      "cell_type": "markdown",
      "metadata": {
        "id": "E3SnvPuuktRn"
      },
      "source": [
        "## Setup\n",
        "\n",
        "First, let's install the required packages:"
      ]
    },
    {
      "cell_type": "code",
      "execution_count": null,
      "metadata": {
        "id": "In2JqtvRktRn"
      },
      "outputs": [],
      "source": [
        "!pip install haystack-ai mongodb-atlas-haystack tiktoken datasets colorama -q --upgrade openai"
      ]
    },
    {
      "cell_type": "markdown",
      "metadata": {
        "id": "9pMEufijktRn"
      },
      "source": [
        "## Configure Environment\n",
        "\n",
        "- [OpenAI API Key](https://platform.openai.com/api-keys) if you'd like to use OpenAI embedding and text generation models\n",
        "- [MongoDB Atlas project](https://www.mongodb.com/docs/atlas/getting-started/) with an Atlas cluster (free tier works). [Detailed Tutorial](https://www.mongodb.com/docs/guides/atlas/cluster/#create-a-cluster)\n",
        "- Get your [connection string](https://www.mongodb.com/docs/atlas/tutorial/connect-to-your-cluster/#connect-to-your-atlas-cluster) and have `0.0.0.0/0` address in your network access list.\n",
        "- Connection string looks like this `mongodb+srv://<db_username>:<db_password>@<clustername>.xxxxx.mongodb.net/?retryWrites=true...`\n",
        "\n",
        "Set up your MongoDB Atlas and OpenAI credentials:"
      ]
    },
    {
      "cell_type": "code",
      "execution_count": 8,
      "metadata": {},
      "outputs": [
        {
          "name": "stdout",
          "output_type": "stream",
          "text": [
            "The dotenv extension is already loaded. To reload it, use:\n",
            "  %reload_ext dotenv\n"
          ]
        }
      ],
      "source": [
        "%load_ext dotenv\n",
        "%dotenv"
      ]
    },
    {
      "cell_type": "code",
      "execution_count": 9,
      "metadata": {
        "id": "DwLsZ6sYktRn"
      },
      "outputs": [],
      "source": [
        "import os\n",
        "\n",
        "os.environ['MONGO_CONNECTION_STRING']=os.getenv(\"MONGO_CONNECTION_STRING\")\n",
        "os.environ['OPENAI_API_KEY'] = os.getenv(\"OPENAI_API_KEY\")"
      ]
    },
    {
      "cell_type": "markdown",
      "metadata": {
        "id": "WywsNEr7ktRn"
      },
      "source": [
        "## Sample Gift Dataset\n",
        "\n",
        "Here's a starter dataset of gifts. Feel free to expand it with more options!"
      ]
    },
    {
      "cell_type": "code",
      "execution_count": 10,
      "metadata": {
        "id": "8a-gkYEAktRo"
      },
      "outputs": [],
      "source": [
        "dataset = {\n",
        "    \"train\": [\n",
        "    {\n",
        "        \"title\": \"LEGO Star Wars Set\",\n",
        "        \"price\": \"$49.99\",\n",
        "        \"description\": \"Build your own galaxy with this exciting LEGO Star Wars set\",\n",
        "        \"category\": \"Toys\",\n",
        "        \"age_range\": \"7-12\"\n",
        "    },\n",
        "    {\n",
        "        \"title\": \"Remote Control Car\",\n",
        "        \"price\": \"$29.99\",\n",
        "        \"description\": \"Fast and fun RC car with full directional control\",\n",
        "        \"category\": \"Toys\",\n",
        "        \"age_range\": \"6-10\"\n",
        "    },\n",
        "    {\n",
        "        \"title\": \"Art Set\",\n",
        "        \"price\": \"$24.99\",\n",
        "        \"description\": \"Complete art set with paints, brushes, and canvas\",\n",
        "        \"category\": \"Arts & Crafts\",\n",
        "        \"age_range\": \"5-15\"\n",
        "    },\n",
        "    {\n",
        "        \"title\": \"Science Kit\",\n",
        "        \"price\": \"$34.99\",\n",
        "        \"description\": \"Educational science experiments kit\",\n",
        "        \"category\": \"Educational\",\n",
        "        \"age_range\": \"8-14\"\n",
        "    },\n",
        "    {\n",
        "        \"title\": \"Dollhouse\",\n",
        "        \"price\": \"$89.99\",\n",
        "        \"description\": \"Beautiful wooden dollhouse with furniture\",\n",
        "        \"category\": \"Toys\",\n",
        "        \"age_range\": \"4-10\"\n",
        "    },\n",
        "    {\n",
        "        \"title\": \"Building Blocks Set\",\n",
        "        \"price\": \"$39.99\",\n",
        "        \"description\": \"Classic wooden building blocks in various shapes and colors\",\n",
        "        \"category\": \"Educational\",\n",
        "        \"age_range\": \"3-8\"\n",
        "    },\n",
        "    {\n",
        "        \"title\": \"Board Game Collection\",\n",
        "        \"price\": \"$44.99\",\n",
        "        \"description\": \"Set of 5 classic family board games\",\n",
        "        \"category\": \"Games\",\n",
        "        \"age_range\": \"6-99\"\n",
        "    },\n",
        "    {\n",
        "        \"title\": \"Puppet Theater\",\n",
        "        \"price\": \"$59.99\",\n",
        "        \"description\": \"Wooden puppet theater with 6 hand puppets\",\n",
        "        \"category\": \"Creative Play\",\n",
        "        \"age_range\": \"4-12\"\n",
        "    },\n",
        "    {\n",
        "        \"title\": \"Robot Building Kit\",\n",
        "        \"price\": \"$69.99\",\n",
        "        \"description\": \"Build and program your own robot with this STEM kit\",\n",
        "        \"category\": \"Educational\",\n",
        "        \"age_range\": \"10-16\"\n",
        "    },\n",
        "    {\n",
        "        \"title\": \"Play Kitchen\",\n",
        "        \"price\": \"$79.99\",\n",
        "        \"description\": \"Realistic play kitchen with sounds and accessories\",\n",
        "        \"category\": \"Pretend Play\",\n",
        "        \"age_range\": \"3-8\"\n",
        "    },\n",
        "    {\n",
        "        \"title\": \"Musical Instrument Set\",\n",
        "        \"price\": \"$45.99\",\n",
        "        \"description\": \"Collection of kid-friendly musical instruments\",\n",
        "        \"category\": \"Music\",\n",
        "        \"age_range\": \"3-10\"\n",
        "    },\n",
        "    {\n",
        "        \"title\": \"Sports Equipment Pack\",\n",
        "        \"price\": \"$54.99\",\n",
        "        \"description\": \"Complete set of kids' sports gear including ball, bat, and net\",\n",
        "        \"category\": \"Sports\",\n",
        "        \"age_range\": \"6-12\"\n",
        "    },\n",
        "    {\n",
        "        \"title\": \"Magic Tricks Kit\",\n",
        "        \"price\": \"$29.99\",\n",
        "        \"description\": \"Professional magic set with instruction manual\",\n",
        "        \"category\": \"Entertainment\",\n",
        "        \"age_range\": \"8-15\"\n",
        "    },\n",
        "    {\n",
        "        \"title\": \"Dinosaur Collection\",\n",
        "        \"price\": \"$39.99\",\n",
        "        \"description\": \"Set of 12 detailed dinosaur figures with fact cards\",\n",
        "        \"category\": \"Educational\",\n",
        "        \"age_range\": \"4-12\"\n",
        "    },\n",
        "    {\n",
        "        \"title\": \"Craft Supply Bundle\",\n",
        "        \"price\": \"$49.99\",\n",
        "        \"description\": \"Comprehensive craft supplies including beads, yarn, and tools\",\n",
        "        \"category\": \"Arts & Crafts\",\n",
        "        \"age_range\": \"6-16\"\n",
        "    },\n",
        "    {\n",
        "        \"title\": \"Coding for Kids Set\",\n",
        "        \"price\": \"$64.99\",\n",
        "        \"description\": \"Interactive coding kit with programmable robot and game cards\",\n",
        "        \"category\": \"STEM\",\n",
        "        \"age_range\": \"8-14\"\n",
        "    },\n",
        "    {\n",
        "        \"title\": \"Dress Up Trunk\",\n",
        "        \"price\": \"$49.99\",\n",
        "        \"description\": \"Collection of costumes and accessories for imaginative play\",\n",
        "        \"category\": \"Pretend Play\",\n",
        "        \"age_range\": \"3-10\"\n",
        "    },\n",
        "    {\n",
        "        \"title\": \"Microscope Kit\",\n",
        "        \"price\": \"$59.99\",\n",
        "        \"description\": \"Real working microscope with prepared slides and tools\",\n",
        "        \"category\": \"Science\",\n",
        "        \"age_range\": \"10-15\"\n",
        "    },\n",
        "    {\n",
        "        \"title\": \"Outdoor Explorer Kit\",\n",
        "        \"price\": \"$34.99\",\n",
        "        \"description\": \"Nature exploration set with binoculars, compass, and field guide\",\n",
        "        \"category\": \"Outdoor\",\n",
        "        \"age_range\": \"7-12\"\n",
        "    },\n",
        "    {\n",
        "        \"title\": \"Art Pottery Studio\",\n",
        "        \"price\": \"$69.99\",\n",
        "        \"description\": \"Complete pottery wheel set with clay and glazing materials\",\n",
        "        \"category\": \"Arts & Crafts\",\n",
        "        \"age_range\": \"8-16\"\n",
        "    }\n",
        "]\n",
        "}"
      ]
    },
    {
      "cell_type": "markdown",
      "metadata": {
        "id": "tppijs6mktRo"
      },
      "source": [
        "## Initialize MongoDB Atlas\n",
        "\n",
        "First, we need to set up our MongoDB Atlas collection and create a vector search index. This step is crucial for enabling semantic search capabilities:"
      ]
    },
    {
      "cell_type": "code",
      "execution_count": 6,
      "metadata": {
        "id": "K_t5ZfOFktRo"
      },
      "outputs": [
        {
          "name": "stdout",
          "output_type": "stream",
          "text": [
            "New search index named vector_index is building.\n",
            "Polling to check if the index is ready. This may take up to a minute.\n",
            "vector_index is ready for querying.\n"
          ]
        }
      ],
      "source": [
        " # Create collection gifts and add the vector index\n",
        "\n",
        "from pymongo import MongoClient\n",
        "from bson import json_util\n",
        "from pymongo.operations import SearchIndexModel\n",
        "import json\n",
        "import time\n",
        "\n",
        "client = MongoClient(os.environ['MONGO_CONNECTION_STRING'])\n",
        "db = client['santa_workshop']\n",
        "collection = db['gifts']\n",
        "\n",
        "db.create_collection(\"gifts\")\n",
        "\n",
        "\n",
        "## create index\n",
        "search_index_model = SearchIndexModel(\n",
        "  definition={\n",
        "    \"fields\": [\n",
        "      {\n",
        "        \"type\": \"vector\",\n",
        "        \"numDimensions\": 1536,\n",
        "        \"path\": \"embedding\",\n",
        "        \"similarity\": \"cosine\"\n",
        "      },\n",
        "    ]\n",
        "  },\n",
        "  name=\"vector_index\",\n",
        "  type=\"vectorSearch\",\n",
        ")\n",
        "result = collection.create_search_index(model=search_index_model)\n",
        "print(\"New search index named \" + result + \" is building.\")\n",
        "# Wait for initial sync to complete\n",
        "print(\"Polling to check if the index is ready. This may take up to a minute.\")\n",
        "predicate=None\n",
        "if predicate is None:\n",
        "  predicate = lambda index: index.get(\"queryable\") is True\n",
        "while True:\n",
        "  indices = list(collection.list_search_indexes(result))\n",
        "  if len(indices) and predicate(indices[0]):\n",
        "    break\n",
        "  time.sleep(5)\n",
        "print(result + \" is ready for querying.\")\n",
        "client.close()"
      ]
    },
    {
      "cell_type": "markdown",
      "metadata": {
        "id": "0_EHV6mXktRo"
      },
      "source": [
        "## Initialize Document Store and Index Documents\n",
        "\n",
        "Now let's set up the [MongoDBAtlasDocumentStore](https://docs.haystack.deepset.ai/docs/mongodbatlasdocumentstore) and index our gift data:"
      ]
    },
    {
      "cell_type": "code",
      "execution_count": 7,
      "metadata": {
        "id": "fZucdRq9ktRo"
      },
      "outputs": [
        {
          "name": "stderr",
          "output_type": "stream",
          "text": [
            "/opt/homebrew/Caskroom/miniforge/base/envs/advent_haystack_24/lib/python3.13/site-packages/tqdm/auto.py:21: TqdmWarning: IProgress not found. Please update jupyter and ipywidgets. See https://ipywidgets.readthedocs.io/en/stable/user_install.html\n",
            "  from .autonotebook import tqdm as notebook_tqdm\n",
            "Calculating embeddings: 100%|██████████| 1/1 [00:01<00:00,  1.79s/it]\n"
          ]
        },
        {
          "data": {
            "text/plain": [
              "{'doc_embedder': {'meta': {'model': 'text-embedding-3-small',\n",
              "   'usage': {'prompt_tokens': 241, 'total_tokens': 241}}},\n",
              " 'doc_writer': {'documents_written': 20}}"
            ]
          },
          "execution_count": 7,
          "metadata": {},
          "output_type": "execute_result"
        }
      ],
      "source": [
        "from haystack import Pipeline, Document\n",
        "from haystack.document_stores.types import DuplicatePolicy\n",
        "from haystack.components.writers import DocumentWriter\n",
        "from haystack.components.embedders import OpenAIDocumentEmbedder\n",
        "from haystack_integrations.document_stores.mongodb_atlas import MongoDBAtlasDocumentStore\n",
        "from bson import json_util\n",
        "\n",
        "# Initialize document store\n",
        "document_store = MongoDBAtlasDocumentStore(\n",
        "    database_name=\"santa_workshop\",\n",
        "    collection_name=\"gifts\",\n",
        "    vector_search_index=\"vector_index\"\n",
        ")\n",
        "\n",
        "# Convert dataset to Haystack documents\n",
        "insert_data = [\n",
        "    Document(content=gift['title'], meta=json_util.loads(json_util.dumps(gift)))\n",
        "    for gift in dataset['train']\n",
        "]\n",
        "\n",
        "# Create and run indexing pipeline\n",
        "doc_writer = DocumentWriter(document_store=document_store, policy=DuplicatePolicy.SKIP)\n",
        "doc_embedder = OpenAIDocumentEmbedder(\n",
        "    model=\"text-embedding-3-small\",\n",
        "    meta_fields_to_embed=[\"description\"]  # Include description in embeddings\n",
        ")\n",
        "\n",
        "indexing_pipe = Pipeline()\n",
        "indexing_pipe.add_component(instance=doc_embedder, name=\"doc_embedder\")\n",
        "indexing_pipe.add_component(instance=doc_writer, name=\"doc_writer\")\n",
        "indexing_pipe.connect(\"doc_embedder.documents\", \"doc_writer.documents\")\n",
        "\n",
        "indexing_pipe.run({\"doc_embedder\": {\"documents\": insert_data}})"
      ]
    },
    {
      "cell_type": "markdown",
      "metadata": {
        "id": "Eq_XKtbrktRo"
      },
      "source": [
        "## Create Gift Selection Pipeline\n",
        "\n",
        "Now comes the fun part! Create a pipeline that can:\n",
        "1. Take a gift request query\n",
        "2. Find relevant gifts using vector search\n",
        "3. Self-reflect on selections to optimize for budget and preferences\n",
        "\n",
        "Here's the basic structure to get you started:"
      ]
    },
    {
      "cell_type": "code",
      "execution_count": 56,
      "metadata": {
        "id": "jDFlTSwKktRp"
      },
      "outputs": [
        {
          "data": {
            "text/plain": [
              "<haystack.core.pipeline.pipeline.Pipeline object at 0x312f76030>\n",
              "🚅 Components\n",
              "  - query_embedder: OpenAITextEmbedder\n",
              "  - embed_retriever: MongoDBAtlasEmbeddingRetriever\n",
              "  - prompt_builder: PromptBuilder\n",
              "  - gift_checker: GiftChecker\n",
              "  - generator: OpenAIGenerator\n",
              "🛤️ Connections\n",
              "  - query_embedder.embedding -> embed_retriever.query_embedding (List[float])\n",
              "  - embed_retriever.documents -> prompt_builder.documents (List[Document])\n",
              "  - prompt_builder.prompt -> generator.prompt (str)\n",
              "  - gift_checker.gifts_to_check -> prompt_builder.gifts_to_check (str)\n",
              "  - generator.replies -> gift_checker.replies (List[str])"
            ]
          },
          "execution_count": 56,
          "metadata": {},
          "output_type": "execute_result"
        }
      ],
      "source": [
        "from haystack.components.generators import OpenAIGenerator\n",
        "from haystack.components.builders.prompt_builder import PromptBuilder\n",
        "from haystack_integrations.components.retrievers.mongodb_atlas import MongoDBAtlasEmbeddingRetriever\n",
        "from haystack.components.embedders import OpenAITextEmbedder\n",
        "from colorama import Fore\n",
        "from typing import List\n",
        "from haystack import component\n",
        "\n",
        "@component\n",
        "class GiftChecker:\n",
        "    @component.output_types(gifts_to_check=str, gifts=str)\n",
        "    def run(self, replies: List[str]):\n",
        "        print(\"Previous replies: \",replies[0])\n",
        "        print(\"Is DONE in replies[0]: \", \"DONE\" in replies[0])\n",
        "        if \"DONE\" in replies[0]:\n",
        "            return {\"gifts\": replies[0].replace(\"DONE\", \"\")}\n",
        "        else:\n",
        "            print(Fore.RED + \"Reflecting on gift selection\\n\", replies[0])\n",
        "            return {\"gifts_to_check\": replies[0]}\n",
        "\n",
        "        \n",
        "\n",
        "prompt_template = \"\"\"\n",
        "    You are Santa's gift selection assistant. Below you have a list of available gifts with their prices.\n",
        "    Based on the child's wishlist and budget, suggest appropriate gifts that maximize joy while staying within budget.\n",
        "\n",
        "    Available Gifts:\n",
        "    {% for doc in documents %}\n",
        "        Gift: {{ doc.content }}\n",
        "        Price: {{ doc.meta['price']}}\n",
        "        Age Range: {{ doc.meta['age_range']}}\n",
        "    {% endfor %}\n",
        "\n",
        "    Query: {{query}}\n",
        "    {% if gifts_to_check %}\n",
        "        Previous gift selection: {{gifts_to_check[0]}}\n",
        "        Can we optimize this selection for better value within budget?\n",
        "        Things to check for:\n",
        "        - Total price should be within budget\n",
        "        - Age range should be appropriate\n",
        "        - Category should match the child's interests\n",
        "        If there are still multiple valid options, choose the one that maximizes joy\n",
        "        If that choice is optimal, you MUST include the word 'DONE' in your reply and return the selection\n",
        "        If not, suggest a better combination\n",
        "    {% endif %}\n",
        "\n",
        "    Gift Selection:\n",
        "\"\"\"\n",
        "\n",
        "gift_pipeline = Pipeline(max_runs_per_component=5)\n",
        "\n",
        "query_embedder = OpenAITextEmbedder(\n",
        "    model=\"text-embedding-3-small\"\n",
        ")\n",
        "embed_retriever = MongoDBAtlasEmbeddingRetriever(\n",
        "    document_store=document_store,\n",
        ")\n",
        "\n",
        "prompt_builder = PromptBuilder(template=prompt_template)\n",
        "gift_checker = GiftChecker()\n",
        "generator = OpenAIGenerator()\n",
        "\n",
        "gift_pipeline.add_component(instance=query_embedder, name=\"query_embedder\")\n",
        "gift_pipeline.add_component(instance=embed_retriever, name=\"embed_retriever\")\n",
        "gift_pipeline.add_component(instance=prompt_builder, name=\"prompt_builder\")\n",
        "gift_pipeline.add_component(instance=gift_checker, name=\"gift_checker\")\n",
        "gift_pipeline.add_component(instance=generator, name=\"generator\")\n",
        "\n",
        "gift_pipeline.connect(\"query_embedder.embedding\", \"embed_retriever.query_embedding\")\n",
        "gift_pipeline.connect(\"embed_retriever\", \"prompt_builder\")\n",
        "gift_pipeline.connect(\"prompt_builder.prompt\", \"generator.prompt\")\n",
        "gift_pipeline.connect(\"generator.replies\", \"gift_checker.replies\")\n",
        "gift_pipeline.connect(\"gift_checker.gifts_to_check\", \"prompt_builder.gifts_to_check\")\n"
      ]
    },
    {
      "cell_type": "markdown",
      "metadata": {
        "id": "1A88pdBektRp"
      },
      "source": [
        "## Test Your Agent\n",
        "\n",
        "Once you've built your pipeline, test it with different scenarios:"
      ]
    },
    {
      "cell_type": "code",
      "execution_count": 58,
      "metadata": {
        "id": "HDi_B-TvktRp"
      },
      "outputs": [
        {
          "name": "stdout",
          "output_type": "stream",
          "text": [
            "Previous replies:  For a 9-year-old who loves science and building things with a budget of $100, here are the best gift options from the available list:\n",
            "\n",
            "1. **Science Kit**\n",
            "   - Price: $34.99\n",
            "   - Age Range: 8-14\n",
            "\n",
            "2. **Outdoor Explorer Kit**\n",
            "   - Price: $34.99\n",
            "   - Age Range: 7-12\n",
            "\n",
            "3. **Building Blocks Set**\n",
            "   - Price: $39.99\n",
            "   - Age Range: 3-8\n",
            "\n",
            "### Gift Combinations:\n",
            "\n",
            "- **Option 1:**\n",
            "  - Science Kit ($34.99) + Outdoor Explorer Kit ($34.99) = **Total: $69.98**\n",
            "- **Option 2:**\n",
            "  - Science Kit ($34.99) + Building Blocks Set ($39.99) = **Total: $74.98**\n",
            "- **Option 3:**\n",
            "  - Outdoor Explorer Kit ($34.99) + Building Blocks Set ($39.99) = **Total: $74.98**\n",
            "\n",
            "These options would maximize joy by providing a mix of science exploration and building activities while staying well within the budget. \n",
            "\n",
            "### Recommended Gift Selection:\n",
            "- **Science Kit** ($34.99)\n",
            "- **Outdoor Explorer Kit** ($34.99) \n",
            "\n",
            "Total: **$69.98**\n",
            "\n",
            "This combination allows for both scientific exploration and outdoor play, appealing to the child's interests in science and building.\n",
            "Is DONE in replies[0]:  False\n",
            "\u001b[31mReflecting on gift selection\n",
            " For a 9-year-old who loves science and building things with a budget of $100, here are the best gift options from the available list:\n",
            "\n",
            "1. **Science Kit**\n",
            "   - Price: $34.99\n",
            "   - Age Range: 8-14\n",
            "\n",
            "2. **Outdoor Explorer Kit**\n",
            "   - Price: $34.99\n",
            "   - Age Range: 7-12\n",
            "\n",
            "3. **Building Blocks Set**\n",
            "   - Price: $39.99\n",
            "   - Age Range: 3-8\n",
            "\n",
            "### Gift Combinations:\n",
            "\n",
            "- **Option 1:**\n",
            "  - Science Kit ($34.99) + Outdoor Explorer Kit ($34.99) = **Total: $69.98**\n",
            "- **Option 2:**\n",
            "  - Science Kit ($34.99) + Building Blocks Set ($39.99) = **Total: $74.98**\n",
            "- **Option 3:**\n",
            "  - Outdoor Explorer Kit ($34.99) + Building Blocks Set ($39.99) = **Total: $74.98**\n",
            "\n",
            "These options would maximize joy by providing a mix of science exploration and building activities while staying well within the budget. \n",
            "\n",
            "### Recommended Gift Selection:\n",
            "- **Science Kit** ($34.99)\n",
            "- **Outdoor Explorer Kit** ($34.99) \n",
            "\n",
            "Total: **$69.98**\n",
            "\n",
            "This combination allows for both scientific exploration and outdoor play, appealing to the child's interests in science and building.\n",
            "Previous replies:  For a 9-year-old who loves science and building things, we can consider the following gifts from the available list:\n",
            "\n",
            "1. **Science Kit** - $34.99 (Age Range: 8-14)\n",
            "2. **Building Blocks Set** - $39.99 (Age Range: 3-8)\n",
            "3. **Outdoor Explorer Kit** - $34.99 (Age Range: 7-12)\n",
            "4. **LEGO Star Wars Set** - $49.99 (Age Range: 7-12)\n",
            "\n",
            "Now, let's analyze the potential combinations that fit within the budget of $100:\n",
            "\n",
            "### Option 1:\n",
            "- Science Kit: $34.99\n",
            "- Building Blocks Set: $39.99\n",
            "- Total: $34.99 + $39.99 = **$74.98** (Age-appropriate, matches interests)\n",
            "\n",
            "### Option 2:\n",
            "- Science Kit: $34.99\n",
            "- Outdoor Explorer Kit: $34.99\n",
            "- Total: $34.99 + $34.99 = **$69.98** (Age-appropriate, matches interests)\n",
            "\n",
            "### Option 3:\n",
            "- LEGO Star Wars Set: $49.99\n",
            "- Outside the Science Kit and Building Blocks Set cannot be included due to budget limitations as they exceed the budget when paired.\n",
            "\n",
            "### Option 4:\n",
            "- Science Kit: $34.99\n",
            "- LEGO Star Wars Set: $49.99\n",
            "- Total: $34.99 + $49.99 = **$84.98** (Age-appropriate, matches interests)\n",
            "\n",
            "Among these combinations, **the best option** maximizing joy is:\n",
            "\n",
            "1. **Science Kit - $34.99**\n",
            "2. **LEGO Star Wars Set - $49.99**\n",
            "\n",
            "This total is $84.98, which is under budget and appropriate for the child's interests.\n",
            "\n",
            "Therefore, the optimized selection is:\n",
            "\n",
            "- **Science Kit**\n",
            "- **LEGO Star Wars Set**\n",
            "\n",
            "DONE\n",
            "Is DONE in replies[0]:  True\n",
            "\u001b[32mFor a 9-year-old who loves science and building things, we can consider the following gifts from the available list:\n",
            "\n",
            "1. **Science Kit** - $34.99 (Age Range: 8-14)\n",
            "2. **Building Blocks Set** - $39.99 (Age Range: 3-8)\n",
            "3. **Outdoor Explorer Kit** - $34.99 (Age Range: 7-12)\n",
            "4. **LEGO Star Wars Set** - $49.99 (Age Range: 7-12)\n",
            "\n",
            "Now, let's analyze the potential combinations that fit within the budget of $100:\n",
            "\n",
            "### Option 1:\n",
            "- Science Kit: $34.99\n",
            "- Building Blocks Set: $39.99\n",
            "- Total: $34.99 + $39.99 = **$74.98** (Age-appropriate, matches interests)\n",
            "\n",
            "### Option 2:\n",
            "- Science Kit: $34.99\n",
            "- Outdoor Explorer Kit: $34.99\n",
            "- Total: $34.99 + $34.99 = **$69.98** (Age-appropriate, matches interests)\n",
            "\n",
            "### Option 3:\n",
            "- LEGO Star Wars Set: $49.99\n",
            "- Outside the Science Kit and Building Blocks Set cannot be included due to budget limitations as they exceed the budget when paired.\n",
            "\n",
            "### Option 4:\n",
            "- Science Kit: $34.99\n",
            "- LEGO Star Wars Set: $49.99\n",
            "- Total: $34.99 + $49.99 = **$84.98** (Age-appropriate, matches interests)\n",
            "\n",
            "Among these combinations, **the best option** maximizing joy is:\n",
            "\n",
            "1. **Science Kit - $34.99**\n",
            "2. **LEGO Star Wars Set - $49.99**\n",
            "\n",
            "This total is $84.98, which is under budget and appropriate for the child's interests.\n",
            "\n",
            "Therefore, the optimized selection is:\n",
            "\n",
            "- **Science Kit**\n",
            "- **LEGO Star Wars Set**\n",
            "\n",
            "\n"
          ]
        }
      ],
      "source": [
        "# Test queries to try:\n",
        "queries = [\n",
        "    \"Find gifts for a 9-year-old who loves science and building things. Budget: $100\",\n",
        "    \"Need gifts for a creative 6-year-old interested in art. Budget: $50\",\n",
        "    \"Looking for educational toys for a 12-year-old. Budget: $75\"\n",
        "]\n",
        "\n",
        "query = queries[0] \n",
        "\n",
        "# Run the pipeline and print the results\n",
        "result = gift_pipeline.run(data={\"query_embedder\": {\"text\": query}, \"prompt_builder\": {\"query\": query}})\n",
        "print(Fore.GREEN + result['gift_checker']['gifts'])\n"
      ]
    },
    {
      "cell_type": "markdown",
      "metadata": {
        "id": "i1JKAT_sktRp"
      },
      "source": [
        "## Next Steps (Bonus)\n",
        "\n",
        "Once you have the basic pipeline working, try these extensions:\n",
        "1. Add sentiment analysis to evaluate gift joy potential\n",
        "2. Implement gift bundle optimization\n",
        "3. Add previous gift tracking to ensure variety\n",
        "4. Enhance the prompt to consider seasonal availability\n",
        "5. Add gift wrapping suggestions based on the selected gifts\n",
        "\n",
        "Good luck! 🎄✨"
      ]
    },
    {
      "cell_type": "code",
      "execution_count": null,
      "metadata": {
        "id": "wtrfRscdfyIW"
      },
      "outputs": [],
      "source": []
    }
  ],
  "metadata": {
    "colab": {
      "provenance": []
    },
    "kernelspec": {
      "display_name": "Python (advent_haystack_24)",
      "language": "python",
      "name": "advent_haystack_24"
    },
    "language_info": {
      "codemirror_mode": {
        "name": "ipython",
        "version": 3
      },
      "file_extension": ".py",
      "mimetype": "text/x-python",
      "name": "python",
      "nbconvert_exporter": "python",
      "pygments_lexer": "ipython3",
      "version": "3.13.1"
    }
  },
  "nbformat": 4,
  "nbformat_minor": 0
}
