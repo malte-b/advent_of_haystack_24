{
  "cells": [
    {
      "cell_type": "markdown",
      "metadata": {
        "id": "J56MHmKkNy_Q"
      },
      "source": [
        "# Advent of Haystack - Day 4\n",
        "\n",
        "\n",
        "\n",
        " <img src='https://drive.google.com/uc?export=view&id=18kEuBq-sX6-GKHpEfYQyo2hyE0fFWoI_' width=300px>\n",
        "\n",
        "## The Elf on a Mission: Sharing the Christmas Magic\n",
        "\n",
        "*At the North Pole, where magic and technology danced hand in hand, Santa was preparing for Christmas. In his workshop filled with glowing gadgets and humming machines, he summoned Elf Patrick, one of the most tech-savvy elves.*\n",
        "\n",
        "*“Elf Patrick,” Santa said with a chuckle, “this year, I want you to share the story of how I became Santa Claus. But here's the twist—you'll use coding to help you create the perfect versions of the story for all kinds of kids.”*\n",
        "\n",
        "*Elf Patrick's eyes sparkled. “Coding? That's my jam, Santa! I'll make sure your story is ready for everyone, no matter how they like it told!”*\n",
        "\n",
        "*Santa handed Elf Patrick the audio file. “Start by transcribing it, then simplify it, and finally, remix it into that fun Gen Z lingo I keep hearing about.”*\n",
        "\n",
        "*“Consider it done!” Elf Patrick declared, racing to the North Pole Coding Hub.*\n",
        "\n",
        "\n"
      ]
    },
    {
      "cell_type": "markdown",
      "metadata": {
        "id": "Dlk3Fvtap4vF"
      },
      "source": [
        "## Preparations\n",
        "\n",
        "*To complete the task, you need to get two requirements for Elf Patrick:*\n",
        "\n",
        "- A free [AssemblyAI API key](https://www.assemblyai.com/dashboard/signup)\n",
        "- An LLM. Here we use an [OpenAI API key](https://platform.openai.com/), but you can choose any other LLM that is supported with [Haystack Generators](https://docs.haystack.deepset.ai/docs/generators)\n",
        "\n",
        "*Read the following resources to be prepared for the tasks:*\n",
        "- [Haystack docs - AssemblyAI integration](https://haystack.deepset.ai/integrations/assemblyai)\n",
        "- [Haystack docs - Creating pipelines](https://docs.haystack.deepset.ai/docs/creating-pipelines)"
      ]
    },
    {
      "cell_type": "markdown",
      "metadata": {
        "id": "EkAAtfdW_WGN"
      },
      "source": [
        "## Task 1: Transcribing Santa's Story\n"
      ]
    },
    {
      "cell_type": "markdown",
      "metadata": {
        "id": "KI2rnh-4Rs4Q"
      },
      "source": [
        "*Elf Patrick plugged the audio file into the North Pole's enchanted computer, powered by both logic and Christmas magic. Elf Patrick knew [Haystack](https://haystack.deepset.ai/) in combination with the [assemblyai-haystack integration](https://github.com/AssemblyAI/assemblyai-haystack) would make this task easy. Before getting started, Elf Patrick needs to install the required packages and configure the AssemblyAI API key:*"
      ]
    },
    {
      "cell_type": "markdown",
      "metadata": {
        "id": "-zvbYToZyiFE"
      },
      "source": [
        "**☝ TODO: Run the cells to install the packages and enter your AssemblyAI API key**"
      ]
    },
    {
      "cell_type": "code",
      "execution_count": null,
      "metadata": {
        "id": "HjHQpUv9YM_Y"
      },
      "outputs": [],
      "source": [
        "%%bash\n",
        "pip install haystack-ai\n",
        "pip install assemblyai-haystack\n",
        "pip install -q --upgrade openai # not to get the OpenAI proxies error: https://community.openai.com/t/error-with-openai-1-56-0-client-init-got-an-unexpected-keyword-argument-proxies/1040332/2"
      ]
    },
    {
      "cell_type": "code",
      "execution_count": 5,
      "metadata": {
        "id": "Fwg_vRKlBBoA"
      },
      "outputs": [
        {
          "name": "stdout",
          "output_type": "stream",
          "text": [
            "The dotenv extension is already loaded. To reload it, use:\n",
            "  %reload_ext dotenv\n"
          ]
        }
      ],
      "source": [
        "%load_ext dotenv\n",
        "%dotenv\n",
        "import os\n",
        "\n",
        "ASSEMBLYAI_API_KEY = os.getenv(\"ASSEMBLYAI_API_KEY\")\n",
        "huggingface_api_key = os.getenv(\"HUGGINGFACE_API_KEY\")"
      ]
    },
    {
      "cell_type": "markdown",
      "metadata": {
        "id": "bGk0Al5HRydC"
      },
      "source": [
        "*With a few lines of Python, the elf ran the `AssemblyAITranscriber` with the given audio file:*\n",
        "\n",
        "(Credits: The audio is from this [YouTube video](https://youtu.be/lrutxppbBQ8?si=80L9ULtVJD4mK9vc))"
      ]
    },
    {
      "cell_type": "markdown",
      "metadata": {
        "id": "MiBLZIFv0Cza"
      },
      "source": [
        "**☝ TODO: Fill out the missing parts to create and run a transcriber instance. Then run the cell.**"
      ]
    },
    {
      "cell_type": "code",
      "execution_count": 2,
      "metadata": {
        "id": "wgbG9-z-IBD2"
      },
      "outputs": [
        {
          "name": "stderr",
          "output_type": "stream",
          "text": [
            "/opt/homebrew/Caskroom/miniforge/base/envs/advent_haystack_24/lib/python3.13/site-packages/tqdm/auto.py:21: TqdmWarning: IProgress not found. Please update jupyter and ipywidgets. See https://ipywidgets.readthedocs.io/en/stable/user_install.html\n",
            "  from .autonotebook import tqdm as notebook_tqdm\n"
          ]
        }
      ],
      "source": [
        "from assemblyai_haystack.transcriber import AssemblyAITranscriber\n",
        "\n",
        "audio_file = \"https://assembly.ai/story-of-santa-claus.mp3\"\n",
        "\n",
        "######## Complete this section #############\n",
        "\n",
        "transcriber = AssemblyAITranscriber(api_key=ASSEMBLYAI_API_KEY)\n",
        "\n",
        "result = transcriber.run(file_path=audio_file)\n",
        "\n",
        "############################################"
      ]
    },
    {
      "cell_type": "markdown",
      "metadata": {
        "id": "kw2qkK_BR9Qr"
      },
      "source": [
        "☝*Run the next cell. Soon, the screen lit up with the text of Santa's tale:*"
      ]
    },
    {
      "cell_type": "code",
      "execution_count": 3,
      "metadata": {
        "id": "ggBxoBEJJBzE"
      },
      "outputs": [
        {
          "name": "stdout",
          "output_type": "stream",
          "text": [
            "The Story of Santa Claus There once lived a wealthy and rich man named Nicholas who lived in the North Pole. He was a kind, generous man. Nicholas enjoyed surprising people, and he often did things to make others happy. Nicholas had a special hobby. He would carve out pretty wooden toys in his free time. But no one ever saw these toys. It was Christmas time, and Nicholas wanted to do something special for the children around him. While sitting in his chair one morning, he suddenly had an idea. Nicholas was going to carve many beautiful toys for all the little boys and girls. Christmas presents. He would go climb up the chimney of all the houses and drop presents into the stockings that hung near the fireplace. Late that night, while everyone slept, Nicholas crept towards a nearby house and climbed to the top of the roof. He threw a toy into the chimney and quickly climbed back down. Nicholas did this to several houses, but after some time he became tired. He quickly went back to his house and pulled out his sleigh and tied them to his reindeers. Nicholas set back out into the snow and cold, but not for long. His sleigh got stuck in the snow. Nicholas was trying to pull the reindeers out of the snow when suddenly an angel appeared. The angel said, nicholas, you are a good man and I want to help you. The angel touched the reindeers and said, now these reindeers are special. They will be able to fly. The angel then waved her hand and a group of small elves appear. They were dressed in green clothes, wore tall green hats and had long, funny ears. They will deliver gifts and bring happiness to many children. They are also fast and will help you make all kinds of toys. Nicholas was in shock, but was very, very happ. Everyone got into the sleigh and with one shake of the ropes, the reindeer took off into the sky, flying high to spread Christmas love and cheer. Nicholas said, merry Christmas to all and to all a good night. The next morning, the children woke up and ran to the fireplace. They pulled off the gifts from the stockings and screamed with joy. Mummy. Someone magically put a gift in our stocking. It's a beautiful toy. And that is the story of how Nicholas became Santa Claus. He now is the man we know on a Christmas long ago.\n"
          ]
        }
      ],
      "source": [
        "print(result[\"transcription\"][0].content)"
      ]
    },
    {
      "cell_type": "markdown",
      "metadata": {
        "id": "TWTvZDUSSFnv"
      },
      "source": [
        "*“Step one, complete!” Elf Patrick grinned. “The story is ready to read!”*"
      ]
    },
    {
      "cell_type": "markdown",
      "metadata": {
        "id": "9kmvxy-WjvuW"
      },
      "source": [
        "## Task 2: Summarizing Santa's Tale\n",
        "\n",
        "*Elf Patrick knew some kids wouldn’t want to sit through the whole story. “Time to code a quick summary!” The elf used the `summarization` feature of the `AssemblyAITranscriber` to make the story shorter:*"
      ]
    },
    {
      "cell_type": "markdown",
      "metadata": {
        "id": "lwR72hgZ0K7y"
      },
      "source": [
        "**☝ TODO: Run the transcriber again and fill out the missing parts to enable summarization**"
      ]
    },
    {
      "cell_type": "code",
      "execution_count": 4,
      "metadata": {
        "id": "mUFMIVq8IyYs"
      },
      "outputs": [
        {
          "name": "stdout",
          "output_type": "stream",
          "text": [
            "- The Story of Santa Claus. There once lived a wealthy and rich man named Nicholas who lived in the North Pole. He would climb up the chimney of all the houses and drop presents into the stockings that hung near the fireplace. The next morning, the children woke up and ran to the fireplace to find gifts.\n"
          ]
        }
      ],
      "source": [
        "######## Complete this section #############\n",
        "\n",
        "result = transcriber.run(\n",
        "    file_path=audio_file,\n",
        "    summarization=True\n",
        ")\n",
        "############################################\n",
        "\n",
        "print(result[\"summarization\"][0].content)\n",
        "\n",
        "# The transcript can be accessed the same way as before:\n",
        "# print(result[\"transcription\"][0].content)"
      ]
    },
    {
      "cell_type": "markdown",
      "metadata": {
        "id": "FGPnkn6USheU"
      },
      "source": [
        "*The output appeared. Elf Patrick nodded, satisfied. “That's perfect for the kids who just want the highlights!”*"
      ]
    },
    {
      "cell_type": "markdown",
      "metadata": {
        "id": "snOZOzIIj1U8"
      },
      "source": [
        "## Task 3: Rewriting for Gen Z Kids\n",
        "\n",
        "*Finally, Elf Patrick tackled the most creative part: making Santa's story fun and relatable for today's kids. “Time to bring in some humor!” Using an LLM and a Haystack pipeline, the elf coded this quirky transformation:*"
      ]
    },
    {
      "cell_type": "markdown",
      "metadata": {
        "id": "Rd-n4K-e0fCL"
      },
      "source": [
        "**☝ TODO: Run the cell and enter your OpenAI API key**\n",
        "\n",
        "or you can use other [Haystack Generators](https://docs.haystack.deepset.ai/docs/generators)"
      ]
    },
    {
      "cell_type": "code",
      "execution_count": null,
      "metadata": {
        "id": "o2blMx9u6Bqq"
      },
      "outputs": [],
      "source": [
        "#from getpass import getpass\n",
        "#import os\n",
        "\n",
        "#os.environ[\"OPENAI_API_KEY\"] = getpass(\"Enter OpenAI Api key: \")"
      ]
    },
    {
      "cell_type": "markdown",
      "metadata": {
        "id": "JYdFp8vW5w3X"
      },
      "source": [
        "**☝ TODO: Set up the pipeline and fill out the missing parts**"
      ]
    },
    {
      "cell_type": "code",
      "execution_count": 9,
      "metadata": {
        "id": "RGayaRaCa4C-"
      },
      "outputs": [
        {
          "data": {
            "text/plain": [
              "<haystack.core.pipeline.pipeline.Pipeline object at 0x17d5ba210>\n",
              "🚅 Components\n",
              "  - transcriber: AssemblyAITranscriber\n",
              "  - prompt_builder: PromptBuilder\n",
              "  - llm: HuggingFaceAPIGenerator\n",
              "🛤️ Connections\n",
              "  - transcriber.transcription -> prompt_builder.transcription (List[Document])\n",
              "  - prompt_builder.prompt -> llm.prompt (str)"
            ]
          },
          "execution_count": 9,
          "metadata": {},
          "output_type": "execute_result"
        }
      ],
      "source": [
        "from assemblyai_haystack.transcriber import AssemblyAITranscriber\n",
        "from haystack import Pipeline\n",
        "from haystack.utils import Secret\n",
        "from haystack.components.builders import PromptBuilder\n",
        "from haystack.components.generators import HuggingFaceAPIGenerator\n",
        "\n",
        "# Setting up the prompt, the transcriber, and the llm:\n",
        "template = \"\"\"\n",
        "Modify the tone of the transcribed story and transform it into Gen Z language.\n",
        "Return only the modified story without a preface.\n",
        "\n",
        "Transcript:\n",
        "{{transcription}}\n",
        "\"\"\"\n",
        "\n",
        "prompt_builder = PromptBuilder(template=template)\n",
        "\n",
        "transcriber = AssemblyAITranscriber(api_key=ASSEMBLYAI_API_KEY)\n",
        "\n",
        "llm = HuggingFaceAPIGenerator(api_type=\"serverless_inference_api\",\n",
        "                              api_params={\"model\": \"mistralai/Mistral-7B-Instruct-v0.3\"},\n",
        "                              token=Secret.from_token(huggingface_api_key))\n",
        "\n",
        "######## Complete this section #############\n",
        "\n",
        "pipe = Pipeline()\n",
        "pipe.add_component(\"transcriber\", transcriber)\n",
        "pipe.add_component(\"prompt_builder\", prompt_builder)\n",
        "pipe.add_component(\"llm\", llm)\n",
        "\n",
        "\n",
        "pipe.connect(\"transcriber.transcription\", \"prompt_builder.transcription\")\n",
        "pipe.connect(\"prompt_builder\", \"llm\")\n",
        "\n",
        "############################################"
      ]
    },
    {
      "cell_type": "markdown",
      "metadata": {
        "id": "ULLMbAhOS3r1"
      },
      "source": [
        "*After the Pipeline was configured, Elf Patrick could run the whole pipeline and review the final output:*\n",
        "\n",
        "☝Run the next cell."
      ]
    },
    {
      "cell_type": "code",
      "execution_count": 10,
      "metadata": {
        "id": "DfHbUO6GyLIs"
      },
      "outputs": [
        {
          "name": "stderr",
          "output_type": "stream",
          "text": [
            "/opt/homebrew/Caskroom/miniforge/base/envs/advent_haystack_24/lib/python3.13/site-packages/huggingface_hub/inference/_client.py:2232: FutureWarning: `stop_sequences` is a deprecated argument for `text_generation` task and will be removed in version '0.28.0'. Use `stop` instead.\n",
            "  warnings.warn(\n"
          ]
        },
        {
          "name": "stdout",
          "output_type": "stream",
          "text": [
            "\n",
            "\n",
            "Yo, peeps! So, lemme tell y'all about this OG dude named Nick, right? He was this rich and loaded cat livin' it up in the North Pole back in the day.\n",
            "\n",
            "Now, here's the thing, Nick wasn't just about the bling and the wealth. He had a heart of gold, always helpin' out those in need. One time, he even saved a bunch of kids from a famine by secretly deliverin' food to their homes.\n",
            "\n",
            "But that's not all, fam. He also had this magical reindeer squad and a sleigh that could fly, and every year on Christmas Eve, he'd hop on that sleigh and deliver presents to all the good kids around the world.\n",
            "\n",
            "So yeah, that's the story of Santa Claus, the legendary gift-giver who's still spreadin' joy and cheer to this very day. Keep it lit, y'all! 🎅🎄🎁🎄🎅\n"
          ]
        }
      ],
      "source": [
        "audio_file = \"https://assembly.ai/story-of-santa-claus.mp3\"\n",
        "res = pipe.run(\n",
        "    {\n",
        "        \"transcriber\": {\n",
        "            \"file_path\": audio_file,\n",
        "        }\n",
        "    }\n",
        ")\n",
        "\n",
        "print(res[\"llm\"][\"replies\"][0])"
      ]
    },
    {
      "cell_type": "markdown",
      "metadata": {
        "id": "ch2snOAmS6zC"
      },
      "source": [
        "*Elf Patrick giggled. “This will be a hit!”*"
      ]
    },
    {
      "cell_type": "markdown",
      "metadata": {
        "id": "vjMY8UaGTEhJ"
      },
      "source": [
        "## Conclusion\n",
        "\n",
        "*Elf Patrick presented the outputs to Santa:*\n",
        "\n",
        "1. *The Full Story - Transcribed using the [assemblyai-haystack integration](https://github.com/AssemblyAI/assemblyai-haystack) and the `AssemblyAITranscriber`*.\n",
        "2. *The Summary - Also created with the `AssemblyAITranscriber` and `summarization` enabled.*\n",
        "3. *The Gen Z Remix - Generated with a Haystack pipeline consisting of the transcriber, a prompt builder, and an LLM generator.*\n",
        "\n",
        "*Santa read through each version, his cheeks glowing with pride. “Elf Patrick, you've done a wonderful job. You've used your coding skills to make the magic of Christmas accessible to every child. That's the true spirit of the season!”*\n",
        "\n",
        "*Elf Patrick beamed, “Anything for Christmas, Santa!”*\n",
        "\n",
        "*With the stories loaded onto Elf Patrick's USB drive, the elf set off to share Santa's tale with kids around the world. Using their storytelling program, Elf Patrick spread joy, laughter, and a little Christmas coding magic wherever they went.*\n",
        "\n",
        "*The end.*\n",
        "\n",
        " <img src='https://drive.google.com/uc?export=view&id=1H7GdZJJZ0Mp3QOEE1tZVz5LvkRQuCJGd' width=300px>\n"
      ]
    }
  ],
  "metadata": {
    "colab": {
      "provenance": []
    },
    "kernelspec": {
      "display_name": "Python (advent_haystack_24)",
      "language": "python",
      "name": "advent_haystack_24"
    },
    "language_info": {
      "codemirror_mode": {
        "name": "ipython",
        "version": 3
      },
      "file_extension": ".py",
      "mimetype": "text/x-python",
      "name": "python",
      "nbconvert_exporter": "python",
      "pygments_lexer": "ipython3",
      "version": "3.13.1"
    }
  },
  "nbformat": 4,
  "nbformat_minor": 0
}
