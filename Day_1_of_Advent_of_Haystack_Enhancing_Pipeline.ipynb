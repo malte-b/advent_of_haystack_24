{
 "cells": [
  {
   "cell_type": "markdown",
   "metadata": {
    "id": "5q2FHwPY-wqJ"
   },
   "source": [
    "# Advent of Haystack: Day 1\n",
    "\n",
    "In this first challenge, we are going to build a pipeline that answers questions based on the contents of a URL. The given pipeline works as it, but your task is to complete the connnections and add the **other required two components**👇\n",
    "\n",
    "**You should complete the missing sections in step 3, 4 and 5**\n",
    "\n",
    "### Initial Components to use:\n",
    "- [`LinkContentFetcher`](https://docs.haystack.deepset.ai/docs/linkcontentfetcher) for using the contents of several URLs in your pipeline\n",
    "- [`HTMLToDocument`](https://docs.haystack.deepset.ai/docs/htmltodocument) for converting the HTML files into documents.\n",
    "- [`PromptBuilder`](https://docs.haystack.deepset.ai/docs/promptbuilder) for creating the prompt\n",
    "- [`OpenAIGenerator`](https://docs.haystack.deepset.ai/docs/openaigenerator) for generating responses"
   ]
  },
  {
   "cell_type": "markdown",
   "metadata": {
    "id": "ZALZDx-LFebK"
   },
   "source": [
    "### 1) Installation\n",
    "\n",
    "Install `haystack-ai`, `trafilatura` and `sentence-transformers` packages with `pip`:"
   ]
  },
  {
   "cell_type": "code",
   "execution_count": null,
   "metadata": {
    "colab": {
     "base_uri": "https://localhost:8080/"
    },
    "collapsed": true,
    "id": "QJJ5AT3Z79e3",
    "jupyter": {
     "outputs_hidden": true
    },
    "outputId": "9f206ef8-e9a7-4504-9a4c-dc1f638dbc2f"
   },
   "outputs": [],
   "source": [
    "!pip install haystack-ai trafilatura \"sentence-transformers>=3.0.0\""
   ]
  },
  {
   "cell_type": "markdown",
   "metadata": {
    "id": "fSgeNUYxXLyI"
   },
   "source": [
    "### (Optional) Change the Logging Level\n",
    "\n",
    "This way, not only warnings but also information messages are displayed in the console output."
   ]
  },
  {
   "cell_type": "code",
   "execution_count": 1,
   "metadata": {
    "id": "t0k3LE27XKf0"
   },
   "outputs": [],
   "source": [
    "import logging\n",
    "\n",
    "logging.basicConfig(format=\"%(levelname)s - %(name)s -  %(message)s\", level=logging.WARNING)\n",
    "logging.getLogger(\"haystack\").setLevel(logging.DEBUG)"
   ]
  },
  {
   "cell_type": "markdown",
   "metadata": {
    "id": "W3jwS4A_FmEV"
   },
   "source": [
    "### 2) Enter API key for OpenAI\n",
    "If you will use OpenAI models, save your API key as `OPENAI_API_KEY` environment variable."
   ]
  },
  {
   "cell_type": "code",
   "execution_count": null,
   "metadata": {
    "colab": {
     "base_uri": "https://localhost:8080/"
    },
    "id": "zy4xBS6v8n1s",
    "outputId": "a16f94b9-01dd-4b47-a356-c9a6447ef474"
   },
   "outputs": [
    {
     "name": "stdout",
     "output_type": "stream",
     "text": [
      "Enter OpenAI API key:··········\n"
     ]
    }
   ],
   "source": [
    "\"\"\"\n",
    "from getpass import getpass\n",
    "import os\n",
    "\n",
    "os.environ[\"OPENAI_API_KEY\"] = getpass(\"Enter OpenAI API key:\")\n",
    "\"\"\""
   ]
  },
  {
   "cell_type": "markdown",
   "metadata": {
    "id": "85pAAbaPFtZc"
   },
   "source": [
    "### 3) Create components\n",
    "\n",
    "Initialize two components to complete the pipeline.\n",
    "\n",
    "**Hints**:\n",
    "* One component is to split the documents into smaller chunks of 10 sentences each.\n",
    "* As the other component, consider methods or components you can use to filter out irrelevant chunks by ranking before injecting the context into the prompt"
   ]
  },
  {
   "cell_type": "code",
   "execution_count": 1,
   "metadata": {},
   "outputs": [],
   "source": [
    "%load_ext dotenv\n",
    "%dotenv"
   ]
  },
  {
   "cell_type": "code",
   "execution_count": 2,
   "metadata": {},
   "outputs": [],
   "source": [
    "import os\n",
    "\n",
    "huggingface_api_key = os.getenv(\"HUGGINGFACE_API_KEY\")"
   ]
  },
  {
   "cell_type": "code",
   "execution_count": null,
   "metadata": {
    "colab": {
     "base_uri": "https://localhost:8080/",
     "height": 304,
     "referenced_widgets": [
      "6c8a36a35cdb4ef484a9e5d7027fa0fa",
      "3762ed2d9d93402c98d85e8f72100ad2",
      "0f593fb9ede64a9e8fd8a1eb751b43db",
      "57ace2aa5c624d8f89aa6b5f2529abf9",
      "3a433fc722134a53b3ebe568e9f0d27a",
      "36506d9ddfa547d280cf16edb8b16b08",
      "0c622ea9bab84670b9792bf911f352a0",
      "919a9ed8f643466c8417177afa75bb15",
      "679a147fe257425e87e96eae8307054e",
      "aa0caf265e1f43f18f415dfccaf85391",
      "f2f38055df754cf5861e9f234a00703a",
      "94a3a2a075cc4db58cdcfaa8cad44fb7",
      "b5c6ea3698874e2c92ea88ab1734024f",
      "c79cb4e091a14c768d1d8999402f47dc",
      "51f0a8e88d6345468e4876d05af768f5",
      "1fb8f539daba48dca791c0c6133f8e6e",
      "ea07daea166140eaa016d8732ed52eae",
      "961cfc19a29a4801a703f5e42a51508a",
      "18fd82a835db439688ae920ea29b147a",
      "6c36ad970f834efc8ead2a0f0e468dcd",
      "9f5bbab99c0c422f8a5d9b8579badfde",
      "18f1b4b980044ecdb5d3e73ed505b47e",
      "049f4360cde84c7388767e3e965fd5b8",
      "c574aeac54cc46e38fabe42c767118a3",
      "820a7bd728ae4e118a7e51b4e2238dd1",
      "2e43cd079e114d50ac8a94e42dfe6bcd",
      "9a6b6db2cca14b60868294adc39f35dd",
      "283bad4314bd44f9830a8f1a5dbea314",
      "eb3fd9965f7c4990872ec4251d75084a",
      "999d26a0c5f643c986062063186a073f",
      "7f56d13f87f548388d5b10056c409517",
      "2e9f3ce19d3f4daebfc7b81b4a013b64",
      "ce8de37e0f184c768121cc1823ed7e41",
      "ae186970eb2b457da668fd86d4222fe8",
      "2e6ddae76a1a479bb70eb543a37842f9",
      "4551f468b6d1415abb98c6aa854cd00d",
      "f642f49964df449f8f8f74fae05647d9",
      "e6a00961f099483cb360f96e2d866b5b",
      "164d22a980174b51a760d28e06dfecab",
      "f0d70680902d4b6ca3a86dd2cd0f1f79",
      "04c26eb447834e76af7e6579e1cdb578",
      "de55045b15d94b86be73ab23794eec8d",
      "00a37781d59543ea8c82df28ecefd4f6",
      "4a56bd6692214403944c4360ae1fa3de",
      "8d2160aea67d4e80a7ece4be36cf496e",
      "a9ba1fd927354ca1b37c6fdf46d07ae8",
      "5b97c64be76c40878892dbbf1ae522b6",
      "5ae1ca374a3f495a9959729e876fed40",
      "d168b769e7d348c3ac8f5e218515028f",
      "9e30436611ff4286a3a4417cb780efb4",
      "2cf133600de54b23af68665cfc748004",
      "43c5ba4986d94782aa0f68fff9d2e425",
      "9b9bbb1ea0aa4e02a4b8c6b6879c3d3e",
      "b484902f291f4ec4a395791b8e3bfc49",
      "92597962f6b2451fb203c333033553c9"
     ]
    },
    "id": "qI4OaTHBa-vt",
    "outputId": "87e5d271-9257-4fe7-94b3-d9c18276b77b"
   },
   "outputs": [],
   "source": [
    "from haystack.components.fetchers import LinkContentFetcher\n",
    "from haystack.components.converters import HTMLToDocument\n",
    "from haystack.components.builders import PromptBuilder\n",
    "from haystack.components.generators import OpenAIGenerator, HuggingFaceAPIGenerator\n",
    "from haystack.utils import Secret\n",
    "from haystack.components.preprocessors import DocumentSplitter\n",
    "from haystack.components.rankers import TransformersSimilarityRanker\n",
    "\n",
    "fetcher = LinkContentFetcher()\n",
    "converter = HTMLToDocument()\n",
    "#### INITIALIZE THE MISSING COMPONENTS HERE ####\n",
    "# comp_one = ...\n",
    "splitter = DocumentSplitter(split_by=\"sentence\",\n",
    "                            split_length=10,\n",
    "                            split_overlap=0)\n",
    "# comp_two = ...\n",
    "ranker = TransformersSimilarityRanker()\n",
    "ranker.warm_up()\n",
    "\n",
    "################################################\n",
    "template = \"\"\"Given the information below, answer the query. Only use the provided context to generate the answer and output the used document links. If the provided context doesn't contain the answer to the question, say \"no answer\".\n",
    "            Context:\n",
    "            {% for document in documents %}\n",
    "                {{ document.content }}\n",
    "                URL: {{ document.meta.url }}\n",
    "            {% endfor %}\n",
    "\n",
    "            Question: {{ query }}\n",
    "            Answer:\"\"\"\n",
    "\n",
    "prompt_builder = PromptBuilder(template = template)\n",
    "generator = HuggingFaceAPIGenerator(api_type=\"serverless_inference_api\",\n",
    "                                    api_params={\"model\": \"mistralai/Mistral-Nemo-Instruct-2407\"},#\"Qwen/QwQ-32B-Preview\"},\n",
    "                                    token=Secret.from_token(huggingface_api_key)) #OpenAIGenerator(model=\"gpt-4o-mini\") # Feel free to try different models or different providers"
   ]
  },
  {
   "cell_type": "markdown",
   "metadata": {
    "id": "jnDhrfD5AayG"
   },
   "source": [
    "### 4) Add them to a Haystack Pipeline"
   ]
  },
  {
   "cell_type": "code",
   "execution_count": 4,
   "metadata": {
    "colab": {
     "base_uri": "https://localhost:8080/"
    },
    "id": "UIXUQWG5AYg6",
    "outputId": "bfa3e351-0c92-41de-8ba4-d88568931a5f"
   },
   "outputs": [],
   "source": [
    "from haystack import Pipeline\n",
    "\n",
    "pipeline = Pipeline()\n",
    "pipeline.add_component(name=\"fetcher\", instance=fetcher)\n",
    "pipeline.add_component(name=\"converter\", instance=converter)\n",
    "#### ADD MISSING COMPONENTS HERE ####\n",
    "pipeline.add_component(name=\"splitter\", instance=splitter)\n",
    "pipeline.add_component(name=\"ranker\", instance=ranker)\n",
    "#####################################\n",
    "pipeline.add_component(name=\"prompt_builder\", instance=prompt_builder)\n",
    "pipeline.add_component(name=\"generator\", instance=generator)"
   ]
  },
  {
   "cell_type": "markdown",
   "metadata": {
    "id": "KFQOOQkaAeRr"
   },
   "source": [
    "###5) Connect the components\n",
    "\n",
    "Complete the pipeline connections to achieve a working pipeline that can be run.\n",
    "\n",
    "**Note:** Everytime you want to run cell 4 and cell 5, you need to run cell 3 and reinitialize all components"
   ]
  },
  {
   "cell_type": "code",
   "execution_count": 5,
   "metadata": {
    "colab": {
     "base_uri": "https://localhost:8080/"
    },
    "id": "hpDVUIhlAi0l",
    "outputId": "1a7c3868-afa1-4d68-a8e3-e7758220779b"
   },
   "outputs": [
    {
     "data": {
      "text/plain": [
       "<haystack.core.pipeline.pipeline.Pipeline object at 0x1799d9e80>\n",
       "🚅 Components\n",
       "  - fetcher: LinkContentFetcher\n",
       "  - converter: HTMLToDocument\n",
       "  - splitter: DocumentSplitter\n",
       "  - ranker: TransformersSimilarityRanker\n",
       "  - prompt_builder: PromptBuilder\n",
       "  - generator: HuggingFaceAPIGenerator\n",
       "🛤️ Connections\n",
       "  - fetcher.streams -> converter.sources (List[ByteStream])\n",
       "  - converter.documents -> splitter.documents (List[Document])\n",
       "  - splitter.documents -> ranker.documents (List[Document])\n",
       "  - ranker.documents -> prompt_builder.documents (List[Document])\n",
       "  - prompt_builder.prompt -> generator.prompt (str)"
      ]
     },
     "execution_count": 5,
     "metadata": {},
     "output_type": "execute_result"
    }
   ],
   "source": [
    "#### CONNECT ALL COMPONENTS HERE ####\n",
    "pipeline.connect(\"fetcher\", \"converter\")\n",
    "pipeline.connect(\"converter\", \"splitter\")\n",
    "pipeline.connect(\"splitter\", \"ranker\")\n",
    "pipeline.connect(\"ranker\", \"prompt_builder\")\n",
    "pipeline.connect(\"prompt_builder\", \"generator\")\n",
    "#####################################"
   ]
  },
  {
   "cell_type": "markdown",
   "metadata": {
    "id": "z0eEFSDYAjOU"
   },
   "source": [
    "###6) Visualize the Pipeline 🎨\n",
    "\n",
    "Display the pipeline image with [`show()`](https://docs.haystack.deepset.ai/docs/visualizing-pipelines) method to understand the connections between components"
   ]
  },
  {
   "cell_type": "code",
   "execution_count": 6,
   "metadata": {
    "colab": {
     "base_uri": "https://localhost:8080/",
     "height": 1000
    },
    "id": "ctE6bDESAqv8",
    "outputId": "a6a81600-f31f-4710-bed0-9a8cb8722269"
   },
   "outputs": [
    {
     "data": {
      "image/png": "[encoded data removed]",
      "text/plain": [
       "<IPython.core.display.Image object>"
      ]
     },
     "metadata": {},
     "output_type": "display_data"
    }
   ],
   "source": [
    "pipeline.show()"
   ]
  },
  {
   "cell_type": "markdown",
   "metadata": {
    "id": "Y2v6GZs6Am5O"
   },
   "source": [
    "###7) Run the Pipeline\n",
    "\n",
    "Use the URLs below and try the example queries."
   ]
  },
  {
   "cell_type": "code",
   "execution_count": 7,
   "metadata": {
    "colab": {
     "base_uri": "https://localhost:8080/"
    },
    "id": "Gbo1QwM9Ambj",
    "outputId": "e1ff38a8-4ad2-420e-ee63-3f75df4ea2c7"
   },
   "outputs": [
    {
     "name": "stderr",
     "output_type": "stream",
     "text": [
      "/opt/homebrew/Caskroom/miniforge/base/envs/advent_haystack_24/lib/python3.13/site-packages/huggingface_hub/inference/_client.py:2232: FutureWarning: `stop_sequences` is a deprecated argument for `text_generation` task and will be removed in version '0.28.0'. Use `stop` instead.\n",
      "  warnings.warn(\n"
     ]
    }
   ],
   "source": [
    "urls = [\"https://haystack.deepset.ai/blog/extracting-metadata-filter\",\n",
    "        \"https://haystack.deepset.ai/blog/query-expansion\",\n",
    "        \"https://haystack.deepset.ai/blog/query-decomposition\",\n",
    "        \"https://haystack.deepset.ai/cookbook/metadata_enrichment\"]\n",
    "\n",
    "## Example queries you can try\n",
    "query = \"What is the difference between metadata filtering and metadata enrichment?\"\n",
    "# query = \"Which methods can I use to transform query for better retrieval?\"\n",
    "# query = \"How can I use metadata to improve retrieval?\"\n",
    "# query = \"What's preprocessing?\" # Should return no answer\n",
    "\n",
    "## Add parameters\n",
    "result = pipeline.run(data={\"fetcher\": {\"urls\": urls}, \"ranker\": {\"query\": query, \"top_k\": 2}, \"prompt_builder\": {\"query\": query}})"
   ]
  },
  {
   "cell_type": "markdown",
   "metadata": {
    "id": "cwTvayX3nbAj"
   },
   "source": [
    "Print the LLM response"
   ]
  },
  {
   "cell_type": "code",
   "execution_count": 8,
   "metadata": {
    "colab": {
     "base_uri": "https://localhost:8080/"
    },
    "id": "tLdqes3NaV4S",
    "outputId": "76f7d202-cee2-4ef0-d75c-0ab5381afbab"
   },
   "outputs": [
    {
     "name": "stdout",
     "output_type": "stream",
     "text": [
      " Metadata filtering is the process of limiting the search space based on specific metadata to improve the relevance and accuracy of retrieved documents. On the other hand, metadata enrichment is the process of adding or updating metadata fields to existing documents to provide more context and improve search and retrieval. Metadata filtering is used before the retrieval step to narrow down the search space, while metadata enrichment is typically performed after the retrieval step to enhance the retrieved documents.\n",
      "            Used Document Links:\n",
      "            - https://haystack.deepset.ai/blog/extracting-metadata-filter\n"
     ]
    }
   ],
   "source": [
    "print(result['generator']['replies'][0])"
   ]
  },
  {
   "cell_type": "markdown",
   "metadata": {
    "id": "H5QCnpvJuPX6"
   },
   "source": [
    "### (Optional) Bonus Task\n",
    "\n",
    "Try to recreate the same pipeline but this time, use [OpenAIChatGenerator](https://docs.haystack.deepset.ai/docs/openaichatgenerator) and [ChatPromptBuilder](https://docs.haystack.deepset.ai/docs/chatpromptbuilder)"
   ]
  },
  {
   "cell_type": "code",
   "execution_count": 9,
   "metadata": {
    "colab": {
     "base_uri": "https://localhost:8080/"
    },
    "id": "KhN3Lv1tvKdt",
    "outputId": "9ba59dee-50b1-44ab-9e5b-480232270875"
   },
   "outputs": [],
   "source": [
    "from haystack.components.generators.chat import HuggingFaceAPIChatGenerator\n",
    "from haystack.components.builders import ChatPromptBuilder\n",
    "from haystack.dataclasses import ChatMessage"
   ]
  },
  {
   "cell_type": "code",
   "execution_count": 10,
   "metadata": {
    "id": "Vlx14_E46GAv"
   },
   "outputs": [],
   "source": [
    "chat_generator = HuggingFaceAPIChatGenerator(api_type=\"serverless_inference_api\",\n",
    "                                        api_params={\"model\": \"mistralai/Mistral-Nemo-Instruct-2407\"},\n",
    "                                        token=Secret.from_token(huggingface_api_key))"
   ]
  },
  {
   "cell_type": "code",
   "execution_count": 12,
   "metadata": {
    "id": "gExod4b96TY2"
   },
   "outputs": [],
   "source": [
    "system_message = \"\"\"You are a technical expert. Use only the provided content and source URLs to answer questions. Don't use your own knowledge.\n",
    "Do not add any extra information or search the web.\n",
    "Keep your answers clear, accurate, and to the point, including the document links you used.\n",
    "If the documents don’t have the answer, say \"no answer\"\n",
    "\"\"\"\n",
    "\n",
    "\n",
    "chat_template = [ChatMessage.from_system(system_message),\n",
    "                 ChatMessage.from_user(\n",
    "\"\"\"\n",
    "Given the information below, answer the query. Only use the provided context to generate the answer and output the used document links\n",
    "Context:\n",
    "{% for document in documents %}\n",
    "    {{ document.content }}\n",
    "    URL: {{ document.meta.url }}\n",
    "{% endfor %}\n",
    "\n",
    "Question: {{ query }}\n",
    "Answer:\n",
    "\"\"\"\n",
    "            )]\n",
    "\n",
    "\n",
    "chat_prompt_builder = ChatPromptBuilder(template = chat_template)"
   ]
  },
  {
   "cell_type": "code",
   "execution_count": 13,
   "metadata": {
    "id": "BvNMPLe263O-"
   },
   "outputs": [],
   "source": [
    "fetcher = LinkContentFetcher()\n",
    "converter = HTMLToDocument()\n",
    "splitter = DocumentSplitter(split_by=\"sentence\",\n",
    "                            split_length=10,\n",
    "                            split_overlap=0)\n",
    "ranker = TransformersSimilarityRanker()\n",
    "ranker.warm_up()"
   ]
  },
  {
   "cell_type": "code",
   "execution_count": 14,
   "metadata": {
    "colab": {
     "base_uri": "https://localhost:8080/"
    },
    "id": "BUz5twOR6O5p",
    "outputId": "53ec3d3d-6792-4a01-bccf-a819c37a1951"
   },
   "outputs": [],
   "source": [
    "from haystack import Pipeline\n",
    "\n",
    "chat_pipeline = Pipeline()\n",
    "chat_pipeline.add_component(name=\"fetcher\", instance=fetcher)\n",
    "chat_pipeline.add_component(name=\"converter\", instance=converter)\n",
    "chat_pipeline.add_component(name=\"splitter\", instance=splitter)\n",
    "chat_pipeline.add_component(name=\"ranker\", instance=ranker)\n",
    "chat_pipeline.add_component(name=\"chat_prompt_builder\", instance=chat_prompt_builder)\n",
    "chat_pipeline.add_component(name=\"chat_generator\", instance=chat_generator)"
   ]
  },
  {
   "cell_type": "code",
   "execution_count": 15,
   "metadata": {
    "colab": {
     "base_uri": "https://localhost:8080/"
    },
    "id": "NISh6R_L6x-X",
    "outputId": "11dc4940-cbf8-4dad-b4da-d22dd9181294"
   },
   "outputs": [
    {
     "data": {
      "text/plain": [
       "<haystack.core.pipeline.pipeline.Pipeline object at 0x179a0b9d0>\n",
       "🚅 Components\n",
       "  - fetcher: LinkContentFetcher\n",
       "  - converter: HTMLToDocument\n",
       "  - splitter: DocumentSplitter\n",
       "  - ranker: TransformersSimilarityRanker\n",
       "  - chat_prompt_builder: ChatPromptBuilder\n",
       "  - chat_generator: HuggingFaceAPIChatGenerator\n",
       "🛤️ Connections\n",
       "  - fetcher.streams -> converter.sources (List[ByteStream])\n",
       "  - converter.documents -> splitter.documents (List[Document])\n",
       "  - splitter.documents -> ranker.documents (List[Document])\n",
       "  - ranker.documents -> chat_prompt_builder.documents (List[Document])\n",
       "  - chat_prompt_builder.prompt -> chat_generator.messages (List[ChatMessage])"
      ]
     },
     "execution_count": 15,
     "metadata": {},
     "output_type": "execute_result"
    }
   ],
   "source": [
    "chat_pipeline.connect(\"fetcher\", \"converter\")\n",
    "chat_pipeline.connect(\"converter\", \"splitter\")\n",
    "chat_pipeline.connect(\"splitter\", \"ranker\")\n",
    "chat_pipeline.connect(\"ranker\", \"chat_prompt_builder\")\n",
    "chat_pipeline.connect(\"chat_prompt_builder\", \"chat_generator\")"
   ]
  },
  {
   "cell_type": "code",
   "execution_count": 16,
   "metadata": {
    "colab": {
     "base_uri": "https://localhost:8080/",
     "height": 1000
    },
    "id": "uBPIAgdO7GWY",
    "outputId": "844ff277-5ce0-4d75-a33d-6e2fa91d6870"
   },
   "outputs": [
    {
     "data": {
      "image/png": "[encoded data removed]",
      "text/plain": [
       "<IPython.core.display.Image object>"
      ]
     },
     "metadata": {},
     "output_type": "display_data"
    }
   ],
   "source": [
    "chat_pipeline.show()"
   ]
  },
  {
   "cell_type": "code",
   "execution_count": 17,
   "metadata": {
    "colab": {
     "base_uri": "https://localhost:8080/"
    },
    "id": "V5W1S52M7I_-",
    "outputId": "c6dba306-6a69-42f9-f391-812b310fa448"
   },
   "outputs": [],
   "source": [
    "urls = [\"https://haystack.deepset.ai/blog/extracting-metadata-filter\",\n",
    "        \"https://haystack.deepset.ai/blog/query-expansion\",\n",
    "        \"https://haystack.deepset.ai/blog/query-decomposition\",\n",
    "        \"https://haystack.deepset.ai/cookbook/metadata_enrichment\"]\n",
    "\n",
    "## Example queries you can try\n",
    "# query = \"What is the difference between metadata filtering and metadata enrichment?\"\n",
    "# query = \"Which methods can I use to transform query for better retrieval?\"\n",
    "query = \"How can I use metadata to improve retrieval?\"\n",
    "#query = \"What's preprocessing?\" # Should return no answer\n",
    "\n",
    "## Add parameters\n",
    "result = chat_pipeline.run(data={\"fetcher\": {\"urls\": urls}, \"ranker\": {\"query\": query, \"top_k\": 2}, \"chat_prompt_builder\": {\"query\": query}})"
   ]
  },
  {
   "cell_type": "code",
   "execution_count": 18,
   "metadata": {
    "colab": {
     "base_uri": "https://localhost:8080/"
    },
    "id": "R3hU4rw77Q8I",
    "outputId": "869b00b8-92db-42ed-8b92-bd1bb9387235"
   },
   "outputs": [
    {
     "name": "stdout",
     "output_type": "stream",
     "text": [
      "ChatMessage(content='You can use metadata to improve retrieval by filtering the search space based on concrete metadata, which helps to narrow down the information being retrieved. This ensures that the generated responses align with the specific query or topic, leading to more relevant and accurate results. (Source: https://haystack.deepset.ai/blog/extracting-metadata-filter)', role=<ChatRole.ASSISTANT: 'assistant'>, name=None, meta={'model': 'mistralai/Mistral-Nemo-Instruct-2407', 'finish_reason': 'stop', 'index': 0, 'usage': ChatCompletionOutputUsage(completion_tokens=69, prompt_tokens=791, total_tokens=860)})\n"
     ]
    }
   ],
   "source": [
    "print(result['chat_generator']['replies'][0])"
   ]
  },
  {
   "cell_type": "code",
   "execution_count": null,
   "metadata": {
    "id": "wl4ny-e48ASC"
   },
   "outputs": [],
   "source": []
  }
 ],
 "metadata": {
  "colab": {
   "provenance": []
  },
  "kernelspec": {
   "display_name": "Python (advent_haystack_24)",
   "language": "python",
   "name": "advent_haystack_24"
  },
  "language_info": {
   "codemirror_mode": {
    "name": "ipython",
    "version": 3
   },
   "file_extension": ".py",
   "mimetype": "text/x-python",
   "name": "python",
   "nbconvert_exporter": "python",
   "pygments_lexer": "ipython3",
   "version": "3.13.1"
  },
  "widgets": {
   "application/vnd.jupyter.widget-state+json": {
    "00a37781d59543ea8c82df28ecefd4f6": {
     "model_module": "@jupyter-widgets/base",
     "model_module_version": "1.2.0",
     "model_name": "LayoutModel",
     "state": {
      "_model_module": "@jupyter-widgets/base",
      "_model_module_version": "1.2.0",
      "_model_name": "LayoutModel",
      "_view_count": null,
      "_view_module": "@jupyter-widgets/base",
      "_view_module_version": "1.2.0",
      "_view_name": "LayoutView",
      "align_content": null,
      "align_items": null,
      "align_self": null,
      "border": null,
      "bottom": null,
      "display": null,
      "flex": null,
      "flex_flow": null,
      "grid_area": null,
      "grid_auto_columns": null,
      "grid_auto_flow": null,
      "grid_auto_rows": null,
      "grid_column": null,
      "grid_gap": null,
      "grid_row": null,
      "grid_template_areas": null,
      "grid_template_columns": null,
      "grid_template_rows": null,
      "height": null,
      "justify_content": null,
      "justify_items": null,
      "left": null,
      "margin": null,
      "max_height": null,
      "max_width": null,
      "min_height": null,
      "min_width": null,
      "object_fit": null,
      "object_position": null,
      "order": null,
      "overflow": null,
      "overflow_x": null,
      "overflow_y": null,
      "padding": null,
      "right": null,
      "top": null,
      "visibility": null,
      "width": null
     }
    },
    "049f4360cde84c7388767e3e965fd5b8": {
     "model_module": "@jupyter-widgets/controls",
     "model_module_version": "1.5.0",
     "model_name": "HBoxModel",
     "state": {
      "_dom_classes": [],
      "_model_module": "@jupyter-widgets/controls",
      "_model_module_version": "1.5.0",
      "_model_name": "HBoxModel",
      "_view_count": null,
      "_view_module": "@jupyter-widgets/controls",
      "_view_module_version": "1.5.0",
      "_view_name": "HBoxView",
      "box_style": "",
      "children": [
       "IPY_MODEL_c574aeac54cc46e38fabe42c767118a3",
       "IPY_MODEL_820a7bd728ae4e118a7e51b4e2238dd1",
       "IPY_MODEL_2e43cd079e114d50ac8a94e42dfe6bcd"
      ],
      "layout": "IPY_MODEL_9a6b6db2cca14b60868294adc39f35dd"
     }
    },
    "04c26eb447834e76af7e6579e1cdb578": {
     "model_module": "@jupyter-widgets/base",
     "model_module_version": "1.2.0",
     "model_name": "LayoutModel",
     "state": {
      "_model_module": "@jupyter-widgets/base",
      "_model_module_version": "1.2.0",
      "_model_name": "LayoutModel",
      "_view_count": null,
      "_view_module": "@jupyter-widgets/base",
      "_view_module_version": "1.2.0",
      "_view_name": "LayoutView",
      "align_content": null,
      "align_items": null,
      "align_self": null,
      "border": null,
      "bottom": null,
      "display": null,
      "flex": null,
      "flex_flow": null,
      "grid_area": null,
      "grid_auto_columns": null,
      "grid_auto_flow": null,
      "grid_auto_rows": null,
      "grid_column": null,
      "grid_gap": null,
      "grid_row": null,
      "grid_template_areas": null,
      "grid_template_columns": null,
      "grid_template_rows": null,
      "height": null,
      "justify_content": null,
      "justify_items": null,
      "left": null,
      "margin": null,
      "max_height": null,
      "max_width": null,
      "min_height": null,
      "min_width": null,
      "object_fit": null,
      "object_position": null,
      "order": null,
      "overflow": null,
      "overflow_x": null,
      "overflow_y": null,
      "padding": null,
      "right": null,
      "top": null,
      "visibility": null,
      "width": null
     }
    },
    "0c622ea9bab84670b9792bf911f352a0": {
     "model_module": "@jupyter-widgets/controls",
     "model_module_version": "1.5.0",
     "model_name": "DescriptionStyleModel",
     "state": {
      "_model_module": "@jupyter-widgets/controls",
      "_model_module_version": "1.5.0",
      "_model_name": "DescriptionStyleModel",
      "_view_count": null,
      "_view_module": "@jupyter-widgets/base",
      "_view_module_version": "1.2.0",
      "_view_name": "StyleView",
      "description_width": ""
     }
    },
    "0f593fb9ede64a9e8fd8a1eb751b43db": {
     "model_module": "@jupyter-widgets/controls",
     "model_module_version": "1.5.0",
     "model_name": "FloatProgressModel",
     "state": {
      "_dom_classes": [],
      "_model_module": "@jupyter-widgets/controls",
      "_model_module_version": "1.5.0",
      "_model_name": "FloatProgressModel",
      "_view_count": null,
      "_view_module": "@jupyter-widgets/controls",
      "_view_module_version": "1.5.0",
      "_view_name": "ProgressView",
      "bar_style": "success",
      "description": "",
      "description_tooltip": null,
      "layout": "IPY_MODEL_919a9ed8f643466c8417177afa75bb15",
      "max": 794,
      "min": 0,
      "orientation": "horizontal",
      "style": "IPY_MODEL_679a147fe257425e87e96eae8307054e",
      "value": 794
     }
    },
    "164d22a980174b51a760d28e06dfecab": {
     "model_module": "@jupyter-widgets/base",
     "model_module_version": "1.2.0",
     "model_name": "LayoutModel",
     "state": {
      "_model_module": "@jupyter-widgets/base",
      "_model_module_version": "1.2.0",
      "_model_name": "LayoutModel",
      "_view_count": null,
      "_view_module": "@jupyter-widgets/base",
      "_view_module_version": "1.2.0",
      "_view_name": "LayoutView",
      "align_content": null,
      "align_items": null,
      "align_self": null,
      "border": null,
      "bottom": null,
      "display": null,
      "flex": null,
      "flex_flow": null,
      "grid_area": null,
      "grid_auto_columns": null,
      "grid_auto_flow": null,
      "grid_auto_rows": null,
      "grid_column": null,
      "grid_gap": null,
      "grid_row": null,
      "grid_template_areas": null,
      "grid_template_columns": null,
      "grid_template_rows": null,
      "height": null,
      "justify_content": null,
      "justify_items": null,
      "left": null,
      "margin": null,
      "max_height": null,
      "max_width": null,
      "min_height": null,
      "min_width": null,
      "object_fit": null,
      "object_position": null,
      "order": null,
      "overflow": null,
      "overflow_x": null,
      "overflow_y": null,
      "padding": null,
      "right": null,
      "top": null,
      "visibility": null,
      "width": null
     }
    },
    "18f1b4b980044ecdb5d3e73ed505b47e": {
     "model_module": "@jupyter-widgets/controls",
     "model_module_version": "1.5.0",
     "model_name": "DescriptionStyleModel",
     "state": {
      "_model_module": "@jupyter-widgets/controls",
      "_model_module_version": "1.5.0",
      "_model_name": "DescriptionStyleModel",
      "_view_count": null,
      "_view_module": "@jupyter-widgets/base",
      "_view_module_version": "1.2.0",
      "_view_name": "StyleView",
      "description_width": ""
     }
    },
    "18fd82a835db439688ae920ea29b147a": {
     "model_module": "@jupyter-widgets/base",
     "model_module_version": "1.2.0",
     "model_name": "LayoutModel",
     "state": {
      "_model_module": "@jupyter-widgets/base",
      "_model_module_version": "1.2.0",
      "_model_name": "LayoutModel",
      "_view_count": null,
      "_view_module": "@jupyter-widgets/base",
      "_view_module_version": "1.2.0",
      "_view_name": "LayoutView",
      "align_content": null,
      "align_items": null,
      "align_self": null,
      "border": null,
      "bottom": null,
      "display": null,
      "flex": null,
      "flex_flow": null,
      "grid_area": null,
      "grid_auto_columns": null,
      "grid_auto_flow": null,
      "grid_auto_rows": null,
      "grid_column": null,
      "grid_gap": null,
      "grid_row": null,
      "grid_template_areas": null,
      "grid_template_columns": null,
      "grid_template_rows": null,
      "height": null,
      "justify_content": null,
      "justify_items": null,
      "left": null,
      "margin": null,
      "max_height": null,
      "max_width": null,
      "min_height": null,
      "min_width": null,
      "object_fit": null,
      "object_position": null,
      "order": null,
      "overflow": null,
      "overflow_x": null,
      "overflow_y": null,
      "padding": null,
      "right": null,
      "top": null,
      "visibility": null,
      "width": null
     }
    },
    "1fb8f539daba48dca791c0c6133f8e6e": {
     "model_module": "@jupyter-widgets/base",
     "model_module_version": "1.2.0",
     "model_name": "LayoutModel",
     "state": {
      "_model_module": "@jupyter-widgets/base",
      "_model_module_version": "1.2.0",
      "_model_name": "LayoutModel",
      "_view_count": null,
      "_view_module": "@jupyter-widgets/base",
      "_view_module_version": "1.2.0",
      "_view_name": "LayoutView",
      "align_content": null,
      "align_items": null,
      "align_self": null,
      "border": null,
      "bottom": null,
      "display": null,
      "flex": null,
      "flex_flow": null,
      "grid_area": null,
      "grid_auto_columns": null,
      "grid_auto_flow": null,
      "grid_auto_rows": null,
      "grid_column": null,
      "grid_gap": null,
      "grid_row": null,
      "grid_template_areas": null,
      "grid_template_columns": null,
      "grid_template_rows": null,
      "height": null,
      "justify_content": null,
      "justify_items": null,
      "left": null,
      "margin": null,
      "max_height": null,
      "max_width": null,
      "min_height": null,
      "min_width": null,
      "object_fit": null,
      "object_position": null,
      "order": null,
      "overflow": null,
      "overflow_x": null,
      "overflow_y": null,
      "padding": null,
      "right": null,
      "top": null,
      "visibility": null,
      "width": null
     }
    },
    "283bad4314bd44f9830a8f1a5dbea314": {
     "model_module": "@jupyter-widgets/base",
     "model_module_version": "1.2.0",
     "model_name": "LayoutModel",
     "state": {
      "_model_module": "@jupyter-widgets/base",
      "_model_module_version": "1.2.0",
      "_model_name": "LayoutModel",
      "_view_count": null,
      "_view_module": "@jupyter-widgets/base",
      "_view_module_version": "1.2.0",
      "_view_name": "LayoutView",
      "align_content": null,
      "align_items": null,
      "align_self": null,
      "border": null,
      "bottom": null,
      "display": null,
      "flex": null,
      "flex_flow": null,
      "grid_area": null,
      "grid_auto_columns": null,
      "grid_auto_flow": null,
      "grid_auto_rows": null,
      "grid_column": null,
      "grid_gap": null,
      "grid_row": null,
      "grid_template_areas": null,
      "grid_template_columns": null,
      "grid_template_rows": null,
      "height": null,
      "justify_content": null,
      "justify_items": null,
      "left": null,
      "margin": null,
      "max_height": null,
      "max_width": null,
      "min_height": null,
      "min_width": null,
      "object_fit": null,
      "object_position": null,
      "order": null,
      "overflow": null,
      "overflow_x": null,
      "overflow_y": null,
      "padding": null,
      "right": null,
      "top": null,
      "visibility": null,
      "width": null
     }
    },
    "2cf133600de54b23af68665cfc748004": {
     "model_module": "@jupyter-widgets/controls",
     "model_module_version": "1.5.0",
     "model_name": "DescriptionStyleModel",
     "state": {
      "_model_module": "@jupyter-widgets/controls",
      "_model_module_version": "1.5.0",
      "_model_name": "DescriptionStyleModel",
      "_view_count": null,
      "_view_module": "@jupyter-widgets/base",
      "_view_module_version": "1.2.0",
      "_view_name": "StyleView",
      "description_width": ""
     }
    },
    "2e43cd079e114d50ac8a94e42dfe6bcd": {
     "model_module": "@jupyter-widgets/controls",
     "model_module_version": "1.5.0",
     "model_name": "HTMLModel",
     "state": {
      "_dom_classes": [],
      "_model_module": "@jupyter-widgets/controls",
      "_model_module_version": "1.5.0",
      "_model_name": "HTMLModel",
      "_view_count": null,
      "_view_module": "@jupyter-widgets/controls",
      "_view_module_version": "1.5.0",
      "_view_name": "HTMLView",
      "description": "",
      "description_tooltip": null,
      "layout": "IPY_MODEL_2e9f3ce19d3f4daebfc7b81b4a013b64",
      "placeholder": "​",
      "style": "IPY_MODEL_ce8de37e0f184c768121cc1823ed7e41",
      "value": " 316/316 [00:00&lt;00:00, 16.0kB/s]"
     }
    },
    "2e6ddae76a1a479bb70eb543a37842f9": {
     "model_module": "@jupyter-widgets/controls",
     "model_module_version": "1.5.0",
     "model_name": "HTMLModel",
     "state": {
      "_dom_classes": [],
      "_model_module": "@jupyter-widgets/controls",
      "_model_module_version": "1.5.0",
      "_model_name": "HTMLModel",
      "_view_count": null,
      "_view_module": "@jupyter-widgets/controls",
      "_view_module_version": "1.5.0",
      "_view_name": "HTMLView",
      "description": "",
      "description_tooltip": null,
      "layout": "IPY_MODEL_164d22a980174b51a760d28e06dfecab",
      "placeholder": "​",
      "style": "IPY_MODEL_f0d70680902d4b6ca3a86dd2cd0f1f79",
      "value": "vocab.txt: 100%"
     }
    },
    "2e9f3ce19d3f4daebfc7b81b4a013b64": {
     "model_module": "@jupyter-widgets/base",
     "model_module_version": "1.2.0",
     "model_name": "LayoutModel",
     "state": {
      "_model_module": "@jupyter-widgets/base",
      "_model_module_version": "1.2.0",
      "_model_name": "LayoutModel",
      "_view_count": null,
      "_view_module": "@jupyter-widgets/base",
      "_view_module_version": "1.2.0",
      "_view_name": "LayoutView",
      "align_content": null,
      "align_items": null,
      "align_self": null,
      "border": null,
      "bottom": null,
      "display": null,
      "flex": null,
      "flex_flow": null,
      "grid_area": null,
      "grid_auto_columns": null,
      "grid_auto_flow": null,
      "grid_auto_rows": null,
      "grid_column": null,
      "grid_gap": null,
      "grid_row": null,
      "grid_template_areas": null,
      "grid_template_columns": null,
      "grid_template_rows": null,
      "height": null,
      "justify_content": null,
      "justify_items": null,
      "left": null,
      "margin": null,
      "max_height": null,
      "max_width": null,
      "min_height": null,
      "min_width": null,
      "object_fit": null,
      "object_position": null,
      "order": null,
      "overflow": null,
      "overflow_x": null,
      "overflow_y": null,
      "padding": null,
      "right": null,
      "top": null,
      "visibility": null,
      "width": null
     }
    },
    "36506d9ddfa547d280cf16edb8b16b08": {
     "model_module": "@jupyter-widgets/base",
     "model_module_version": "1.2.0",
     "model_name": "LayoutModel",
     "state": {
      "_model_module": "@jupyter-widgets/base",
      "_model_module_version": "1.2.0",
      "_model_name": "LayoutModel",
      "_view_count": null,
      "_view_module": "@jupyter-widgets/base",
      "_view_module_version": "1.2.0",
      "_view_name": "LayoutView",
      "align_content": null,
      "align_items": null,
      "align_self": null,
      "border": null,
      "bottom": null,
      "display": null,
      "flex": null,
      "flex_flow": null,
      "grid_area": null,
      "grid_auto_columns": null,
      "grid_auto_flow": null,
      "grid_auto_rows": null,
      "grid_column": null,
      "grid_gap": null,
      "grid_row": null,
      "grid_template_areas": null,
      "grid_template_columns": null,
      "grid_template_rows": null,
      "height": null,
      "justify_content": null,
      "justify_items": null,
      "left": null,
      "margin": null,
      "max_height": null,
      "max_width": null,
      "min_height": null,
      "min_width": null,
      "object_fit": null,
      "object_position": null,
      "order": null,
      "overflow": null,
      "overflow_x": null,
      "overflow_y": null,
      "padding": null,
      "right": null,
      "top": null,
      "visibility": null,
      "width": null
     }
    },
    "3762ed2d9d93402c98d85e8f72100ad2": {
     "model_module": "@jupyter-widgets/controls",
     "model_module_version": "1.5.0",
     "model_name": "HTMLModel",
     "state": {
      "_dom_classes": [],
      "_model_module": "@jupyter-widgets/controls",
      "_model_module_version": "1.5.0",
      "_model_name": "HTMLModel",
      "_view_count": null,
      "_view_module": "@jupyter-widgets/controls",
      "_view_module_version": "1.5.0",
      "_view_name": "HTMLView",
      "description": "",
      "description_tooltip": null,
      "layout": "IPY_MODEL_36506d9ddfa547d280cf16edb8b16b08",
      "placeholder": "​",
      "style": "IPY_MODEL_0c622ea9bab84670b9792bf911f352a0",
      "value": "config.json: 100%"
     }
    },
    "3a433fc722134a53b3ebe568e9f0d27a": {
     "model_module": "@jupyter-widgets/base",
     "model_module_version": "1.2.0",
     "model_name": "LayoutModel",
     "state": {
      "_model_module": "@jupyter-widgets/base",
      "_model_module_version": "1.2.0",
      "_model_name": "LayoutModel",
      "_view_count": null,
      "_view_module": "@jupyter-widgets/base",
      "_view_module_version": "1.2.0",
      "_view_name": "LayoutView",
      "align_content": null,
      "align_items": null,
      "align_self": null,
      "border": null,
      "bottom": null,
      "display": null,
      "flex": null,
      "flex_flow": null,
      "grid_area": null,
      "grid_auto_columns": null,
      "grid_auto_flow": null,
      "grid_auto_rows": null,
      "grid_column": null,
      "grid_gap": null,
      "grid_row": null,
      "grid_template_areas": null,
      "grid_template_columns": null,
      "grid_template_rows": null,
      "height": null,
      "justify_content": null,
      "justify_items": null,
      "left": null,
      "margin": null,
      "max_height": null,
      "max_width": null,
      "min_height": null,
      "min_width": null,
      "object_fit": null,
      "object_position": null,
      "order": null,
      "overflow": null,
      "overflow_x": null,
      "overflow_y": null,
      "padding": null,
      "right": null,
      "top": null,
      "visibility": null,
      "width": null
     }
    },
    "43c5ba4986d94782aa0f68fff9d2e425": {
     "model_module": "@jupyter-widgets/base",
     "model_module_version": "1.2.0",
     "model_name": "LayoutModel",
     "state": {
      "_model_module": "@jupyter-widgets/base",
      "_model_module_version": "1.2.0",
      "_model_name": "LayoutModel",
      "_view_count": null,
      "_view_module": "@jupyter-widgets/base",
      "_view_module_version": "1.2.0",
      "_view_name": "LayoutView",
      "align_content": null,
      "align_items": null,
      "align_self": null,
      "border": null,
      "bottom": null,
      "display": null,
      "flex": null,
      "flex_flow": null,
      "grid_area": null,
      "grid_auto_columns": null,
      "grid_auto_flow": null,
      "grid_auto_rows": null,
      "grid_column": null,
      "grid_gap": null,
      "grid_row": null,
      "grid_template_areas": null,
      "grid_template_columns": null,
      "grid_template_rows": null,
      "height": null,
      "justify_content": null,
      "justify_items": null,
      "left": null,
      "margin": null,
      "max_height": null,
      "max_width": null,
      "min_height": null,
      "min_width": null,
      "object_fit": null,
      "object_position": null,
      "order": null,
      "overflow": null,
      "overflow_x": null,
      "overflow_y": null,
      "padding": null,
      "right": null,
      "top": null,
      "visibility": null,
      "width": null
     }
    },
    "4551f468b6d1415abb98c6aa854cd00d": {
     "model_module": "@jupyter-widgets/controls",
     "model_module_version": "1.5.0",
     "model_name": "FloatProgressModel",
     "state": {
      "_dom_classes": [],
      "_model_module": "@jupyter-widgets/controls",
      "_model_module_version": "1.5.0",
      "_model_name": "FloatProgressModel",
      "_view_count": null,
      "_view_module": "@jupyter-widgets/controls",
      "_view_module_version": "1.5.0",
      "_view_name": "ProgressView",
      "bar_style": "success",
      "description": "",
      "description_tooltip": null,
      "layout": "IPY_MODEL_04c26eb447834e76af7e6579e1cdb578",
      "max": 231508,
      "min": 0,
      "orientation": "horizontal",
      "style": "IPY_MODEL_de55045b15d94b86be73ab23794eec8d",
      "value": 231508
     }
    },
    "4a56bd6692214403944c4360ae1fa3de": {
     "model_module": "@jupyter-widgets/controls",
     "model_module_version": "1.5.0",
     "model_name": "DescriptionStyleModel",
     "state": {
      "_model_module": "@jupyter-widgets/controls",
      "_model_module_version": "1.5.0",
      "_model_name": "DescriptionStyleModel",
      "_view_count": null,
      "_view_module": "@jupyter-widgets/base",
      "_view_module_version": "1.2.0",
      "_view_name": "StyleView",
      "description_width": ""
     }
    },
    "51f0a8e88d6345468e4876d05af768f5": {
     "model_module": "@jupyter-widgets/controls",
     "model_module_version": "1.5.0",
     "model_name": "HTMLModel",
     "state": {
      "_dom_classes": [],
      "_model_module": "@jupyter-widgets/controls",
      "_model_module_version": "1.5.0",
      "_model_name": "HTMLModel",
      "_view_count": null,
      "_view_module": "@jupyter-widgets/controls",
      "_view_module_version": "1.5.0",
      "_view_name": "HTMLView",
      "description": "",
      "description_tooltip": null,
      "layout": "IPY_MODEL_9f5bbab99c0c422f8a5d9b8579badfde",
      "placeholder": "​",
      "style": "IPY_MODEL_18f1b4b980044ecdb5d3e73ed505b47e",
      "value": " 90.9M/90.9M [00:00&lt;00:00, 156MB/s]"
     }
    },
    "57ace2aa5c624d8f89aa6b5f2529abf9": {
     "model_module": "@jupyter-widgets/controls",
     "model_module_version": "1.5.0",
     "model_name": "HTMLModel",
     "state": {
      "_dom_classes": [],
      "_model_module": "@jupyter-widgets/controls",
      "_model_module_version": "1.5.0",
      "_model_name": "HTMLModel",
      "_view_count": null,
      "_view_module": "@jupyter-widgets/controls",
      "_view_module_version": "1.5.0",
      "_view_name": "HTMLView",
      "description": "",
      "description_tooltip": null,
      "layout": "IPY_MODEL_aa0caf265e1f43f18f415dfccaf85391",
      "placeholder": "​",
      "style": "IPY_MODEL_f2f38055df754cf5861e9f234a00703a",
      "value": " 794/794 [00:00&lt;00:00, 35.0kB/s]"
     }
    },
    "5ae1ca374a3f495a9959729e876fed40": {
     "model_module": "@jupyter-widgets/controls",
     "model_module_version": "1.5.0",
     "model_name": "HTMLModel",
     "state": {
      "_dom_classes": [],
      "_model_module": "@jupyter-widgets/controls",
      "_model_module_version": "1.5.0",
      "_model_name": "HTMLModel",
      "_view_count": null,
      "_view_module": "@jupyter-widgets/controls",
      "_view_module_version": "1.5.0",
      "_view_name": "HTMLView",
      "description": "",
      "description_tooltip": null,
      "layout": "IPY_MODEL_b484902f291f4ec4a395791b8e3bfc49",
      "placeholder": "​",
      "style": "IPY_MODEL_92597962f6b2451fb203c333033553c9",
      "value": " 112/112 [00:00&lt;00:00, 5.05kB/s]"
     }
    },
    "5b97c64be76c40878892dbbf1ae522b6": {
     "model_module": "@jupyter-widgets/controls",
     "model_module_version": "1.5.0",
     "model_name": "FloatProgressModel",
     "state": {
      "_dom_classes": [],
      "_model_module": "@jupyter-widgets/controls",
      "_model_module_version": "1.5.0",
      "_model_name": "FloatProgressModel",
      "_view_count": null,
      "_view_module": "@jupyter-widgets/controls",
      "_view_module_version": "1.5.0",
      "_view_name": "ProgressView",
      "bar_style": "success",
      "description": "",
      "description_tooltip": null,
      "layout": "IPY_MODEL_43c5ba4986d94782aa0f68fff9d2e425",
      "max": 112,
      "min": 0,
      "orientation": "horizontal",
      "style": "IPY_MODEL_9b9bbb1ea0aa4e02a4b8c6b6879c3d3e",
      "value": 112
     }
    },
    "679a147fe257425e87e96eae8307054e": {
     "model_module": "@jupyter-widgets/controls",
     "model_module_version": "1.5.0",
     "model_name": "ProgressStyleModel",
     "state": {
      "_model_module": "@jupyter-widgets/controls",
      "_model_module_version": "1.5.0",
      "_model_name": "ProgressStyleModel",
      "_view_count": null,
      "_view_module": "@jupyter-widgets/base",
      "_view_module_version": "1.2.0",
      "_view_name": "StyleView",
      "bar_color": null,
      "description_width": ""
     }
    },
    "6c36ad970f834efc8ead2a0f0e468dcd": {
     "model_module": "@jupyter-widgets/controls",
     "model_module_version": "1.5.0",
     "model_name": "ProgressStyleModel",
     "state": {
      "_model_module": "@jupyter-widgets/controls",
      "_model_module_version": "1.5.0",
      "_model_name": "ProgressStyleModel",
      "_view_count": null,
      "_view_module": "@jupyter-widgets/base",
      "_view_module_version": "1.2.0",
      "_view_name": "StyleView",
      "bar_color": null,
      "description_width": ""
     }
    },
    "6c8a36a35cdb4ef484a9e5d7027fa0fa": {
     "model_module": "@jupyter-widgets/controls",
     "model_module_version": "1.5.0",
     "model_name": "HBoxModel",
     "state": {
      "_dom_classes": [],
      "_model_module": "@jupyter-widgets/controls",
      "_model_module_version": "1.5.0",
      "_model_name": "HBoxModel",
      "_view_count": null,
      "_view_module": "@jupyter-widgets/controls",
      "_view_module_version": "1.5.0",
      "_view_name": "HBoxView",
      "box_style": "",
      "children": [
       "IPY_MODEL_3762ed2d9d93402c98d85e8f72100ad2",
       "IPY_MODEL_0f593fb9ede64a9e8fd8a1eb751b43db",
       "IPY_MODEL_57ace2aa5c624d8f89aa6b5f2529abf9"
      ],
      "layout": "IPY_MODEL_3a433fc722134a53b3ebe568e9f0d27a"
     }
    },
    "7f56d13f87f548388d5b10056c409517": {
     "model_module": "@jupyter-widgets/controls",
     "model_module_version": "1.5.0",
     "model_name": "ProgressStyleModel",
     "state": {
      "_model_module": "@jupyter-widgets/controls",
      "_model_module_version": "1.5.0",
      "_model_name": "ProgressStyleModel",
      "_view_count": null,
      "_view_module": "@jupyter-widgets/base",
      "_view_module_version": "1.2.0",
      "_view_name": "StyleView",
      "bar_color": null,
      "description_width": ""
     }
    },
    "820a7bd728ae4e118a7e51b4e2238dd1": {
     "model_module": "@jupyter-widgets/controls",
     "model_module_version": "1.5.0",
     "model_name": "FloatProgressModel",
     "state": {
      "_dom_classes": [],
      "_model_module": "@jupyter-widgets/controls",
      "_model_module_version": "1.5.0",
      "_model_name": "FloatProgressModel",
      "_view_count": null,
      "_view_module": "@jupyter-widgets/controls",
      "_view_module_version": "1.5.0",
      "_view_name": "ProgressView",
      "bar_style": "success",
      "description": "",
      "description_tooltip": null,
      "layout": "IPY_MODEL_999d26a0c5f643c986062063186a073f",
      "max": 316,
      "min": 0,
      "orientation": "horizontal",
      "style": "IPY_MODEL_7f56d13f87f548388d5b10056c409517",
      "value": 316
     }
    },
    "8d2160aea67d4e80a7ece4be36cf496e": {
     "model_module": "@jupyter-widgets/controls",
     "model_module_version": "1.5.0",
     "model_name": "HBoxModel",
     "state": {
      "_dom_classes": [],
      "_model_module": "@jupyter-widgets/controls",
      "_model_module_version": "1.5.0",
      "_model_name": "HBoxModel",
      "_view_count": null,
      "_view_module": "@jupyter-widgets/controls",
      "_view_module_version": "1.5.0",
      "_view_name": "HBoxView",
      "box_style": "",
      "children": [
       "IPY_MODEL_a9ba1fd927354ca1b37c6fdf46d07ae8",
       "IPY_MODEL_5b97c64be76c40878892dbbf1ae522b6",
       "IPY_MODEL_5ae1ca374a3f495a9959729e876fed40"
      ],
      "layout": "IPY_MODEL_d168b769e7d348c3ac8f5e218515028f"
     }
    },
    "919a9ed8f643466c8417177afa75bb15": {
     "model_module": "@jupyter-widgets/base",
     "model_module_version": "1.2.0",
     "model_name": "LayoutModel",
     "state": {
      "_model_module": "@jupyter-widgets/base",
      "_model_module_version": "1.2.0",
      "_model_name": "LayoutModel",
      "_view_count": null,
      "_view_module": "@jupyter-widgets/base",
      "_view_module_version": "1.2.0",
      "_view_name": "LayoutView",
      "align_content": null,
      "align_items": null,
      "align_self": null,
      "border": null,
      "bottom": null,
      "display": null,
      "flex": null,
      "flex_flow": null,
      "grid_area": null,
      "grid_auto_columns": null,
      "grid_auto_flow": null,
      "grid_auto_rows": null,
      "grid_column": null,
      "grid_gap": null,
      "grid_row": null,
      "grid_template_areas": null,
      "grid_template_columns": null,
      "grid_template_rows": null,
      "height": null,
      "justify_content": null,
      "justify_items": null,
      "left": null,
      "margin": null,
      "max_height": null,
      "max_width": null,
      "min_height": null,
      "min_width": null,
      "object_fit": null,
      "object_position": null,
      "order": null,
      "overflow": null,
      "overflow_x": null,
      "overflow_y": null,
      "padding": null,
      "right": null,
      "top": null,
      "visibility": null,
      "width": null
     }
    },
    "92597962f6b2451fb203c333033553c9": {
     "model_module": "@jupyter-widgets/controls",
     "model_module_version": "1.5.0",
     "model_name": "DescriptionStyleModel",
     "state": {
      "_model_module": "@jupyter-widgets/controls",
      "_model_module_version": "1.5.0",
      "_model_name": "DescriptionStyleModel",
      "_view_count": null,
      "_view_module": "@jupyter-widgets/base",
      "_view_module_version": "1.2.0",
      "_view_name": "StyleView",
      "description_width": ""
     }
    },
    "94a3a2a075cc4db58cdcfaa8cad44fb7": {
     "model_module": "@jupyter-widgets/controls",
     "model_module_version": "1.5.0",
     "model_name": "HBoxModel",
     "state": {
      "_dom_classes": [],
      "_model_module": "@jupyter-widgets/controls",
      "_model_module_version": "1.5.0",
      "_model_name": "HBoxModel",
      "_view_count": null,
      "_view_module": "@jupyter-widgets/controls",
      "_view_module_version": "1.5.0",
      "_view_name": "HBoxView",
      "box_style": "",
      "children": [
       "IPY_MODEL_b5c6ea3698874e2c92ea88ab1734024f",
       "IPY_MODEL_c79cb4e091a14c768d1d8999402f47dc",
       "IPY_MODEL_51f0a8e88d6345468e4876d05af768f5"
      ],
      "layout": "IPY_MODEL_1fb8f539daba48dca791c0c6133f8e6e"
     }
    },
    "961cfc19a29a4801a703f5e42a51508a": {
     "model_module": "@jupyter-widgets/controls",
     "model_module_version": "1.5.0",
     "model_name": "DescriptionStyleModel",
     "state": {
      "_model_module": "@jupyter-widgets/controls",
      "_model_module_version": "1.5.0",
      "_model_name": "DescriptionStyleModel",
      "_view_count": null,
      "_view_module": "@jupyter-widgets/base",
      "_view_module_version": "1.2.0",
      "_view_name": "StyleView",
      "description_width": ""
     }
    },
    "999d26a0c5f643c986062063186a073f": {
     "model_module": "@jupyter-widgets/base",
     "model_module_version": "1.2.0",
     "model_name": "LayoutModel",
     "state": {
      "_model_module": "@jupyter-widgets/base",
      "_model_module_version": "1.2.0",
      "_model_name": "LayoutModel",
      "_view_count": null,
      "_view_module": "@jupyter-widgets/base",
      "_view_module_version": "1.2.0",
      "_view_name": "LayoutView",
      "align_content": null,
      "align_items": null,
      "align_self": null,
      "border": null,
      "bottom": null,
      "display": null,
      "flex": null,
      "flex_flow": null,
      "grid_area": null,
      "grid_auto_columns": null,
      "grid_auto_flow": null,
      "grid_auto_rows": null,
      "grid_column": null,
      "grid_gap": null,
      "grid_row": null,
      "grid_template_areas": null,
      "grid_template_columns": null,
      "grid_template_rows": null,
      "height": null,
      "justify_content": null,
      "justify_items": null,
      "left": null,
      "margin": null,
      "max_height": null,
      "max_width": null,
      "min_height": null,
      "min_width": null,
      "object_fit": null,
      "object_position": null,
      "order": null,
      "overflow": null,
      "overflow_x": null,
      "overflow_y": null,
      "padding": null,
      "right": null,
      "top": null,
      "visibility": null,
      "width": null
     }
    },
    "9a6b6db2cca14b60868294adc39f35dd": {
     "model_module": "@jupyter-widgets/base",
     "model_module_version": "1.2.0",
     "model_name": "LayoutModel",
     "state": {
      "_model_module": "@jupyter-widgets/base",
      "_model_module_version": "1.2.0",
      "_model_name": "LayoutModel",
      "_view_count": null,
      "_view_module": "@jupyter-widgets/base",
      "_view_module_version": "1.2.0",
      "_view_name": "LayoutView",
      "align_content": null,
      "align_items": null,
      "align_self": null,
      "border": null,
      "bottom": null,
      "display": null,
      "flex": null,
      "flex_flow": null,
      "grid_area": null,
      "grid_auto_columns": null,
      "grid_auto_flow": null,
      "grid_auto_rows": null,
      "grid_column": null,
      "grid_gap": null,
      "grid_row": null,
      "grid_template_areas": null,
      "grid_template_columns": null,
      "grid_template_rows": null,
      "height": null,
      "justify_content": null,
      "justify_items": null,
      "left": null,
      "margin": null,
      "max_height": null,
      "max_width": null,
      "min_height": null,
      "min_width": null,
      "object_fit": null,
      "object_position": null,
      "order": null,
      "overflow": null,
      "overflow_x": null,
      "overflow_y": null,
      "padding": null,
      "right": null,
      "top": null,
      "visibility": null,
      "width": null
     }
    },
    "9b9bbb1ea0aa4e02a4b8c6b6879c3d3e": {
     "model_module": "@jupyter-widgets/controls",
     "model_module_version": "1.5.0",
     "model_name": "ProgressStyleModel",
     "state": {
      "_model_module": "@jupyter-widgets/controls",
      "_model_module_version": "1.5.0",
      "_model_name": "ProgressStyleModel",
      "_view_count": null,
      "_view_module": "@jupyter-widgets/base",
      "_view_module_version": "1.2.0",
      "_view_name": "StyleView",
      "bar_color": null,
      "description_width": ""
     }
    },
    "9e30436611ff4286a3a4417cb780efb4": {
     "model_module": "@jupyter-widgets/base",
     "model_module_version": "1.2.0",
     "model_name": "LayoutModel",
     "state": {
      "_model_module": "@jupyter-widgets/base",
      "_model_module_version": "1.2.0",
      "_model_name": "LayoutModel",
      "_view_count": null,
      "_view_module": "@jupyter-widgets/base",
      "_view_module_version": "1.2.0",
      "_view_name": "LayoutView",
      "align_content": null,
      "align_items": null,
      "align_self": null,
      "border": null,
      "bottom": null,
      "display": null,
      "flex": null,
      "flex_flow": null,
      "grid_area": null,
      "grid_auto_columns": null,
      "grid_auto_flow": null,
      "grid_auto_rows": null,
      "grid_column": null,
      "grid_gap": null,
      "grid_row": null,
      "grid_template_areas": null,
      "grid_template_columns": null,
      "grid_template_rows": null,
      "height": null,
      "justify_content": null,
      "justify_items": null,
      "left": null,
      "margin": null,
      "max_height": null,
      "max_width": null,
      "min_height": null,
      "min_width": null,
      "object_fit": null,
      "object_position": null,
      "order": null,
      "overflow": null,
      "overflow_x": null,
      "overflow_y": null,
      "padding": null,
      "right": null,
      "top": null,
      "visibility": null,
      "width": null
     }
    },
    "9f5bbab99c0c422f8a5d9b8579badfde": {
     "model_module": "@jupyter-widgets/base",
     "model_module_version": "1.2.0",
     "model_name": "LayoutModel",
     "state": {
      "_model_module": "@jupyter-widgets/base",
      "_model_module_version": "1.2.0",
      "_model_name": "LayoutModel",
      "_view_count": null,
      "_view_module": "@jupyter-widgets/base",
      "_view_module_version": "1.2.0",
      "_view_name": "LayoutView",
      "align_content": null,
      "align_items": null,
      "align_self": null,
      "border": null,
      "bottom": null,
      "display": null,
      "flex": null,
      "flex_flow": null,
      "grid_area": null,
      "grid_auto_columns": null,
      "grid_auto_flow": null,
      "grid_auto_rows": null,
      "grid_column": null,
      "grid_gap": null,
      "grid_row": null,
      "grid_template_areas": null,
      "grid_template_columns": null,
      "grid_template_rows": null,
      "height": null,
      "justify_content": null,
      "justify_items": null,
      "left": null,
      "margin": null,
      "max_height": null,
      "max_width": null,
      "min_height": null,
      "min_width": null,
      "object_fit": null,
      "object_position": null,
      "order": null,
      "overflow": null,
      "overflow_x": null,
      "overflow_y": null,
      "padding": null,
      "right": null,
      "top": null,
      "visibility": null,
      "width": null
     }
    },
    "a9ba1fd927354ca1b37c6fdf46d07ae8": {
     "model_module": "@jupyter-widgets/controls",
     "model_module_version": "1.5.0",
     "model_name": "HTMLModel",
     "state": {
      "_dom_classes": [],
      "_model_module": "@jupyter-widgets/controls",
      "_model_module_version": "1.5.0",
      "_model_name": "HTMLModel",
      "_view_count": null,
      "_view_module": "@jupyter-widgets/controls",
      "_view_module_version": "1.5.0",
      "_view_name": "HTMLView",
      "description": "",
      "description_tooltip": null,
      "layout": "IPY_MODEL_9e30436611ff4286a3a4417cb780efb4",
      "placeholder": "​",
      "style": "IPY_MODEL_2cf133600de54b23af68665cfc748004",
      "value": "special_tokens_map.json: 100%"
     }
    },
    "aa0caf265e1f43f18f415dfccaf85391": {
     "model_module": "@jupyter-widgets/base",
     "model_module_version": "1.2.0",
     "model_name": "LayoutModel",
     "state": {
      "_model_module": "@jupyter-widgets/base",
      "_model_module_version": "1.2.0",
      "_model_name": "LayoutModel",
      "_view_count": null,
      "_view_module": "@jupyter-widgets/base",
      "_view_module_version": "1.2.0",
      "_view_name": "LayoutView",
      "align_content": null,
      "align_items": null,
      "align_self": null,
      "border": null,
      "bottom": null,
      "display": null,
      "flex": null,
      "flex_flow": null,
      "grid_area": null,
      "grid_auto_columns": null,
      "grid_auto_flow": null,
      "grid_auto_rows": null,
      "grid_column": null,
      "grid_gap": null,
      "grid_row": null,
      "grid_template_areas": null,
      "grid_template_columns": null,
      "grid_template_rows": null,
      "height": null,
      "justify_content": null,
      "justify_items": null,
      "left": null,
      "margin": null,
      "max_height": null,
      "max_width": null,
      "min_height": null,
      "min_width": null,
      "object_fit": null,
      "object_position": null,
      "order": null,
      "overflow": null,
      "overflow_x": null,
      "overflow_y": null,
      "padding": null,
      "right": null,
      "top": null,
      "visibility": null,
      "width": null
     }
    },
    "ae186970eb2b457da668fd86d4222fe8": {
     "model_module": "@jupyter-widgets/controls",
     "model_module_version": "1.5.0",
     "model_name": "HBoxModel",
     "state": {
      "_dom_classes": [],
      "_model_module": "@jupyter-widgets/controls",
      "_model_module_version": "1.5.0",
      "_model_name": "HBoxModel",
      "_view_count": null,
      "_view_module": "@jupyter-widgets/controls",
      "_view_module_version": "1.5.0",
      "_view_name": "HBoxView",
      "box_style": "",
      "children": [
       "IPY_MODEL_2e6ddae76a1a479bb70eb543a37842f9",
       "IPY_MODEL_4551f468b6d1415abb98c6aa854cd00d",
       "IPY_MODEL_f642f49964df449f8f8f74fae05647d9"
      ],
      "layout": "IPY_MODEL_e6a00961f099483cb360f96e2d866b5b"
     }
    },
    "b484902f291f4ec4a395791b8e3bfc49": {
     "model_module": "@jupyter-widgets/base",
     "model_module_version": "1.2.0",
     "model_name": "LayoutModel",
     "state": {
      "_model_module": "@jupyter-widgets/base",
      "_model_module_version": "1.2.0",
      "_model_name": "LayoutModel",
      "_view_count": null,
      "_view_module": "@jupyter-widgets/base",
      "_view_module_version": "1.2.0",
      "_view_name": "LayoutView",
      "align_content": null,
      "align_items": null,
      "align_self": null,
      "border": null,
      "bottom": null,
      "display": null,
      "flex": null,
      "flex_flow": null,
      "grid_area": null,
      "grid_auto_columns": null,
      "grid_auto_flow": null,
      "grid_auto_rows": null,
      "grid_column": null,
      "grid_gap": null,
      "grid_row": null,
      "grid_template_areas": null,
      "grid_template_columns": null,
      "grid_template_rows": null,
      "height": null,
      "justify_content": null,
      "justify_items": null,
      "left": null,
      "margin": null,
      "max_height": null,
      "max_width": null,
      "min_height": null,
      "min_width": null,
      "object_fit": null,
      "object_position": null,
      "order": null,
      "overflow": null,
      "overflow_x": null,
      "overflow_y": null,
      "padding": null,
      "right": null,
      "top": null,
      "visibility": null,
      "width": null
     }
    },
    "b5c6ea3698874e2c92ea88ab1734024f": {
     "model_module": "@jupyter-widgets/controls",
     "model_module_version": "1.5.0",
     "model_name": "HTMLModel",
     "state": {
      "_dom_classes": [],
      "_model_module": "@jupyter-widgets/controls",
      "_model_module_version": "1.5.0",
      "_model_name": "HTMLModel",
      "_view_count": null,
      "_view_module": "@jupyter-widgets/controls",
      "_view_module_version": "1.5.0",
      "_view_name": "HTMLView",
      "description": "",
      "description_tooltip": null,
      "layout": "IPY_MODEL_ea07daea166140eaa016d8732ed52eae",
      "placeholder": "​",
      "style": "IPY_MODEL_961cfc19a29a4801a703f5e42a51508a",
      "value": "model.safetensors: 100%"
     }
    },
    "c574aeac54cc46e38fabe42c767118a3": {
     "model_module": "@jupyter-widgets/controls",
     "model_module_version": "1.5.0",
     "model_name": "HTMLModel",
     "state": {
      "_dom_classes": [],
      "_model_module": "@jupyter-widgets/controls",
      "_model_module_version": "1.5.0",
      "_model_name": "HTMLModel",
      "_view_count": null,
      "_view_module": "@jupyter-widgets/controls",
      "_view_module_version": "1.5.0",
      "_view_name": "HTMLView",
      "description": "",
      "description_tooltip": null,
      "layout": "IPY_MODEL_283bad4314bd44f9830a8f1a5dbea314",
      "placeholder": "​",
      "style": "IPY_MODEL_eb3fd9965f7c4990872ec4251d75084a",
      "value": "tokenizer_config.json: 100%"
     }
    },
    "c79cb4e091a14c768d1d8999402f47dc": {
     "model_module": "@jupyter-widgets/controls",
     "model_module_version": "1.5.0",
     "model_name": "FloatProgressModel",
     "state": {
      "_dom_classes": [],
      "_model_module": "@jupyter-widgets/controls",
      "_model_module_version": "1.5.0",
      "_model_name": "FloatProgressModel",
      "_view_count": null,
      "_view_module": "@jupyter-widgets/controls",
      "_view_module_version": "1.5.0",
      "_view_name": "ProgressView",
      "bar_style": "success",
      "description": "",
      "description_tooltip": null,
      "layout": "IPY_MODEL_18fd82a835db439688ae920ea29b147a",
      "max": 90870598,
      "min": 0,
      "orientation": "horizontal",
      "style": "IPY_MODEL_6c36ad970f834efc8ead2a0f0e468dcd",
      "value": 90870598
     }
    },
    "ce8de37e0f184c768121cc1823ed7e41": {
     "model_module": "@jupyter-widgets/controls",
     "model_module_version": "1.5.0",
     "model_name": "DescriptionStyleModel",
     "state": {
      "_model_module": "@jupyter-widgets/controls",
      "_model_module_version": "1.5.0",
      "_model_name": "DescriptionStyleModel",
      "_view_count": null,
      "_view_module": "@jupyter-widgets/base",
      "_view_module_version": "1.2.0",
      "_view_name": "StyleView",
      "description_width": ""
     }
    },
    "d168b769e7d348c3ac8f5e218515028f": {
     "model_module": "@jupyter-widgets/base",
     "model_module_version": "1.2.0",
     "model_name": "LayoutModel",
     "state": {
      "_model_module": "@jupyter-widgets/base",
      "_model_module_version": "1.2.0",
      "_model_name": "LayoutModel",
      "_view_count": null,
      "_view_module": "@jupyter-widgets/base",
      "_view_module_version": "1.2.0",
      "_view_name": "LayoutView",
      "align_content": null,
      "align_items": null,
      "align_self": null,
      "border": null,
      "bottom": null,
      "display": null,
      "flex": null,
      "flex_flow": null,
      "grid_area": null,
      "grid_auto_columns": null,
      "grid_auto_flow": null,
      "grid_auto_rows": null,
      "grid_column": null,
      "grid_gap": null,
      "grid_row": null,
      "grid_template_areas": null,
      "grid_template_columns": null,
      "grid_template_rows": null,
      "height": null,
      "justify_content": null,
      "justify_items": null,
      "left": null,
      "margin": null,
      "max_height": null,
      "max_width": null,
      "min_height": null,
      "min_width": null,
      "object_fit": null,
      "object_position": null,
      "order": null,
      "overflow": null,
      "overflow_x": null,
      "overflow_y": null,
      "padding": null,
      "right": null,
      "top": null,
      "visibility": null,
      "width": null
     }
    },
    "de55045b15d94b86be73ab23794eec8d": {
     "model_module": "@jupyter-widgets/controls",
     "model_module_version": "1.5.0",
     "model_name": "ProgressStyleModel",
     "state": {
      "_model_module": "@jupyter-widgets/controls",
      "_model_module_version": "1.5.0",
      "_model_name": "ProgressStyleModel",
      "_view_count": null,
      "_view_module": "@jupyter-widgets/base",
      "_view_module_version": "1.2.0",
      "_view_name": "StyleView",
      "bar_color": null,
      "description_width": ""
     }
    },
    "e6a00961f099483cb360f96e2d866b5b": {
     "model_module": "@jupyter-widgets/base",
     "model_module_version": "1.2.0",
     "model_name": "LayoutModel",
     "state": {
      "_model_module": "@jupyter-widgets/base",
      "_model_module_version": "1.2.0",
      "_model_name": "LayoutModel",
      "_view_count": null,
      "_view_module": "@jupyter-widgets/base",
      "_view_module_version": "1.2.0",
      "_view_name": "LayoutView",
      "align_content": null,
      "align_items": null,
      "align_self": null,
      "border": null,
      "bottom": null,
      "display": null,
      "flex": null,
      "flex_flow": null,
      "grid_area": null,
      "grid_auto_columns": null,
      "grid_auto_flow": null,
      "grid_auto_rows": null,
      "grid_column": null,
      "grid_gap": null,
      "grid_row": null,
      "grid_template_areas": null,
      "grid_template_columns": null,
      "grid_template_rows": null,
      "height": null,
      "justify_content": null,
      "justify_items": null,
      "left": null,
      "margin": null,
      "max_height": null,
      "max_width": null,
      "min_height": null,
      "min_width": null,
      "object_fit": null,
      "object_position": null,
      "order": null,
      "overflow": null,
      "overflow_x": null,
      "overflow_y": null,
      "padding": null,
      "right": null,
      "top": null,
      "visibility": null,
      "width": null
     }
    },
    "ea07daea166140eaa016d8732ed52eae": {
     "model_module": "@jupyter-widgets/base",
     "model_module_version": "1.2.0",
     "model_name": "LayoutModel",
     "state": {
      "_model_module": "@jupyter-widgets/base",
      "_model_module_version": "1.2.0",
      "_model_name": "LayoutModel",
      "_view_count": null,
      "_view_module": "@jupyter-widgets/base",
      "_view_module_version": "1.2.0",
      "_view_name": "LayoutView",
      "align_content": null,
      "align_items": null,
      "align_self": null,
      "border": null,
      "bottom": null,
      "display": null,
      "flex": null,
      "flex_flow": null,
      "grid_area": null,
      "grid_auto_columns": null,
      "grid_auto_flow": null,
      "grid_auto_rows": null,
      "grid_column": null,
      "grid_gap": null,
      "grid_row": null,
      "grid_template_areas": null,
      "grid_template_columns": null,
      "grid_template_rows": null,
      "height": null,
      "justify_content": null,
      "justify_items": null,
      "left": null,
      "margin": null,
      "max_height": null,
      "max_width": null,
      "min_height": null,
      "min_width": null,
      "object_fit": null,
      "object_position": null,
      "order": null,
      "overflow": null,
      "overflow_x": null,
      "overflow_y": null,
      "padding": null,
      "right": null,
      "top": null,
      "visibility": null,
      "width": null
     }
    },
    "eb3fd9965f7c4990872ec4251d75084a": {
     "model_module": "@jupyter-widgets/controls",
     "model_module_version": "1.5.0",
     "model_name": "DescriptionStyleModel",
     "state": {
      "_model_module": "@jupyter-widgets/controls",
      "_model_module_version": "1.5.0",
      "_model_name": "DescriptionStyleModel",
      "_view_count": null,
      "_view_module": "@jupyter-widgets/base",
      "_view_module_version": "1.2.0",
      "_view_name": "StyleView",
      "description_width": ""
     }
    },
    "f0d70680902d4b6ca3a86dd2cd0f1f79": {
     "model_module": "@jupyter-widgets/controls",
     "model_module_version": "1.5.0",
     "model_name": "DescriptionStyleModel",
     "state": {
      "_model_module": "@jupyter-widgets/controls",
      "_model_module_version": "1.5.0",
      "_model_name": "DescriptionStyleModel",
      "_view_count": null,
      "_view_module": "@jupyter-widgets/base",
      "_view_module_version": "1.2.0",
      "_view_name": "StyleView",
      "description_width": ""
     }
    },
    "f2f38055df754cf5861e9f234a00703a": {
     "model_module": "@jupyter-widgets/controls",
     "model_module_version": "1.5.0",
     "model_name": "DescriptionStyleModel",
     "state": {
      "_model_module": "@jupyter-widgets/controls",
      "_model_module_version": "1.5.0",
      "_model_name": "DescriptionStyleModel",
      "_view_count": null,
      "_view_module": "@jupyter-widgets/base",
      "_view_module_version": "1.2.0",
      "_view_name": "StyleView",
      "description_width": ""
     }
    },
    "f642f49964df449f8f8f74fae05647d9": {
     "model_module": "@jupyter-widgets/controls",
     "model_module_version": "1.5.0",
     "model_name": "HTMLModel",
     "state": {
      "_dom_classes": [],
      "_model_module": "@jupyter-widgets/controls",
      "_model_module_version": "1.5.0",
      "_model_name": "HTMLModel",
      "_view_count": null,
      "_view_module": "@jupyter-widgets/controls",
      "_view_module_version": "1.5.0",
      "_view_name": "HTMLView",
      "description": "",
      "description_tooltip": null,
      "layout": "IPY_MODEL_00a37781d59543ea8c82df28ecefd4f6",
      "placeholder": "​",
      "style": "IPY_MODEL_4a56bd6692214403944c4360ae1fa3de",
      "value": " 232k/232k [00:00&lt;00:00, 2.72MB/s]"
     }
    }
   }
  }
 },
 "nbformat": 4,
 "nbformat_minor": 4
}
